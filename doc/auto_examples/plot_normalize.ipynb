{
  "nbformat_minor": 0, 
  "nbformat": 4, 
  "cells": [
    {
      "execution_count": null, 
      "cell_type": "code", 
      "source": [
        "%matplotlib inline"
      ], 
      "outputs": [], 
      "metadata": {
        "collapsed": false
      }
    }, 
    {
      "source": [
        "\n# Choosing the thumbnail figure\n\n\nAn example to demonstrate how to choose which figure is displayed as the\nthumbnail if the example generates more than one figure. This is done by\nspecifying the keyword-value pair ``sphinx_gallery_thumbnail_number = 2`` as a\ncomment somewhere below the docstring in the example file.\n\n"
      ], 
      "cell_type": "markdown", 
      "metadata": {}
    }, 
    {
      "execution_count": null, 
      "cell_type": "code", 
      "source": [
        "# Code source: Andrew Heusser\n# License: MIT\n\nimport hypertools as hyp\nimport scipy.io as sio\nimport numpy as np\nimport matplotlib.pyplot as plt\n\ncluster1 = np.random.multivariate_normal(np.zeros(3), np.eye(3), size=100)\ncluster2 = np.random.multivariate_normal(np.zeros(3)+10, np.eye(3), size=100)\n\ndata = [cluster1,cluster2]\n\nnormalized_across = hyp.tools.normalize(data,normalize='across')\nfig,ax,data = hyp.plot(normalized_across, 'o', show=False, return_data=True)\nax.set_title('z-score columns across all lists')\nplt.show()\n\nnormalized_within = hyp.tools.normalize(data, normalize='within')\nfig,ax,data = hyp.plot(normalized_within, 'o', show=False, return_data=True)\nax.set_title('z-score columns within each list')\nplt.show()\n\nnormalized_row = hyp.tools.normalize(data, normalize='row')\nfig,ax,data = hyp.plot(normalized_row, 'o', show=False, return_data=True)\nax.set_title('z-score each row')\nplt.show()"
      ], 
      "outputs": [], 
      "metadata": {
        "collapsed": false
      }
    }
  ], 
  "metadata": {
    "kernelspec": {
      "display_name": "Python 2", 
      "name": "python2", 
      "language": "python"
    }, 
    "language_info": {
      "mimetype": "text/x-python", 
      "nbconvert_exporter": "python", 
      "name": "python", 
      "file_extension": ".py", 
      "version": "2.7.11", 
      "pygments_lexer": "ipython2", 
      "codemirror_mode": {
        "version": 2, 
        "name": "ipython"
      }
    }
  }
}