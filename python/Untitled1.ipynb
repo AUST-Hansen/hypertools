{
 "cells": [
  {
   "cell_type": "code",
   "execution_count": 1,
   "metadata": {
    "collapsed": true
   },
   "outputs": [],
   "source": [
    "import numpy as np"
   ]
  },
  {
   "cell_type": "code",
   "execution_count": 12,
   "metadata": {
    "collapsed": false
   },
   "outputs": [],
   "source": [
    "def is_list(x):\n",
    "    if type(x[0][0])==np.ndarray:\n",
    "        return True\n",
    "    elif type(x[0][0])==np.int64:\n",
    "        return False\n"
   ]
  },
  {
   "cell_type": "code",
   "execution_count": 24,
   "metadata": {
    "collapsed": true
   },
   "outputs": [],
   "source": [
    "x=np.array([[3, 4, 5],[6, 7, 8],[9, 10, 11],[12, 13, 14]])\n",
    "y=np.array([[3, 4, 2],[6, 7, 1],[9, 10, 9],[12, 13, 19]])\n",
    "z=np.array([[10, 3],[2, 1],[9, 7],[1, 2]])\n",
    "\n",
    "q=[x, y]"
   ]
  },
  {
   "cell_type": "code",
   "execution_count": 25,
   "metadata": {
    "collapsed": false
   },
   "outputs": [
    {
     "name": "stdout",
     "output_type": "stream",
     "text": [
      "False\n",
      "True\n"
     ]
    }
   ],
   "source": [
    "print is_list(x)\n",
    "print is_list(q)"
   ]
  },
  {
   "cell_type": "markdown",
   "metadata": {},
   "source": [
    "\n",
    "    "
   ]
  },
  {
   "cell_type": "code",
   "execution_count": 26,
   "metadata": {
    "collapsed": true
   },
   "outputs": [],
   "source": [
    "def resize(*args):\n",
    "    sizes_1=np.zeros(len(args))\n",
    "\n",
    "    for x in range(0, len(args)):\n",
    "        sizes_1[x]=args[x].shape[1]\n",
    "\n",
    "    C=max(sizes_1)\n",
    "    #find the largest number of columns of all inputted arrays\n",
    "\n",
    "    #k=np.empty((R,C), dtype=np.ndarray)\n",
    "    #m=[k]*len(args)\n",
    "\n",
    "    m=[]\n",
    "    for idx,x in enumerate(args):\t\t\t\n",
    "        missing=C-x.shape[1]\n",
    "        add=np.zeros((x.shape[0], missing))\n",
    "        y=np.append(x, add, axis=1)\n",
    "\n",
    "        m.append(y)\n",
    "    \n",
    "    print m"
   ]
  },
  {
   "cell_type": "code",
   "execution_count": 27,
   "metadata": {
    "collapsed": false
   },
   "outputs": [
    {
     "name": "stdout",
     "output_type": "stream",
     "text": [
      "[array([[  3.,   4.,   2.],\n",
      "       [  6.,   7.,   1.],\n",
      "       [  9.,  10.,   9.],\n",
      "       [ 12.,  13.,  19.]]), array([[ 10.,   3.,   0.],\n",
      "       [  2.,   1.,   0.],\n",
      "       [  9.,   7.,   0.],\n",
      "       [  1.,   2.,   0.]])]\n"
     ]
    },
    {
     "name": "stderr",
     "output_type": "stream",
     "text": [
      "/Users/contextlab/Library/Enthought/Canopy_64bit/User/lib/python2.7/site-packages/ipykernel/__main__.py:16: DeprecationWarning: using a non-integer number instead of an integer will result in an error in the future\n"
     ]
    }
   ],
   "source": [
    "resize(y,z)"
   ]
  },
  {
   "cell_type": "code",
   "execution_count": null,
   "metadata": {
    "collapsed": true
   },
   "outputs": [],
   "source": []
  }
 ],
 "metadata": {
  "kernelspec": {
   "display_name": "Python 2",
   "language": "python",
   "name": "python2"
  },
  "language_info": {
   "codemirror_mode": {
    "name": "ipython",
    "version": 2
   },
   "file_extension": ".py",
   "mimetype": "text/x-python",
   "name": "python",
   "nbconvert_exporter": "python",
   "pygments_lexer": "ipython2",
   "version": "2.7.11"
  }
 },
 "nbformat": 4,
 "nbformat_minor": 0
}
