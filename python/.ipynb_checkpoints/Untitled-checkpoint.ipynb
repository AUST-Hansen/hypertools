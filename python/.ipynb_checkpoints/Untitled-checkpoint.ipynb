{
 "cells": [
  {
   "cell_type": "code",
   "execution_count": null,
   "metadata": {
    "collapsed": false
   },
   "outputs": [],
   "source": [
    "import numpy as np\n",
    "import plot_coords as coords\n",
    "import scipy.io as sio"
   ]
  },
  {
   "cell_type": "code",
   "execution_count": null,
   "metadata": {
    "collapsed": false
   },
   "outputs": [],
   "source": [
    "#SAMPLE 1D, 2D, 3D ARRAYS\n",
    "x1=np.array([[3],[6],[9],[10]])\n",
    "x2=np.array([[12],[13],[14],[15]])\n",
    "\n",
    "y1=np.array([[10, 3],[2, 1],[9, 7],[1, 2]])\n",
    "y2=np.array([[110, 13],[12, 11],[19, 17],[11, 12]])\n",
    "\n",
    "z1=np.array([[3, 4, 2],[6, 7, 1],[9, 10, 9],[12, 13, 19]])\n",
    "z2=np.array([[13, 14, 21],[61, 17, 11],[19, 101, 19],[121, 131, 119]])\n",
    "\n",
    "#SAMPLE LISTS of 1D, 2D, 3D ARRAYS\n",
    "one=[x1, x2]\n",
    "two=[y1, y2]\n",
    "three=[z1, z2]\n",
    "\n",
    "mixed=[x1, y1, z1]\n",
    "\n",
    "#ACTUAL SUBJECT DATA\n",
    "data=sio.loadmat('weights.mat')\n",
    "w=data['weights'][0]\n"
   ]
  },
  {
   "cell_type": "raw",
   "metadata": {
    "collapsed": false
   },
   "source": []
  },
  {
   "cell_type": "code",
   "execution_count": null,
   "metadata": {
    "collapsed": false
   },
   "outputs": [],
   "source": [
    "def resize(k):\n",
    "    sizes_1=np.zeros(len(k))\n",
    "\n",
    "    for x in range(0, len(k)):\n",
    "        sizes_1[x]=k[x].shape[1]\n",
    "\n",
    "    C=max(sizes_1)\n",
    "    #find the largest number of columns of all inputted arrays\n",
    "\n",
    "    m=[]\n",
    "    for idx,x in enumerate(k):\t\t\t\n",
    "        missing=C-x.shape[1]\n",
    "        add=np.zeros((x.shape[0], missing))\n",
    "        y=np.append(x, add, axis=1)\n",
    "\n",
    "        m.append(y)\n",
    "    return m"
   ]
  },
  {
   "cell_type": "markdown",
   "metadata": {},
   "source": []
  },
  {
   "cell_type": "code",
   "execution_count": null,
   "metadata": {
    "collapsed": false
   },
   "outputs": [],
   "source": [
    "resize(mixed)"
   ]
  },
  {
   "cell_type": "code",
   "execution_count": 38,
   "metadata": {
    "collapsed": false
   },
   "outputs": [],
   "source": [
    "def is_list(x):\n",
    "    if type(x[0][0])==np.ndarray:\n",
    "        return True\n",
    "    elif type(x[0][0])==np.int64:\n",
    "        return False"
   ]
  },
  {
   "cell_type": "markdown",
   "metadata": {},
   "source": [
    "plot1D_list(x)"
   ]
  },
  {
   "cell_type": "raw",
   "metadata": {},
   "source": []
  },
  {
   "cell_type": "raw",
   "metadata": {
    "collapsed": false
   },
   "source": []
  },
  {
   "cell_type": "code",
   "execution_count": 42,
   "metadata": {
    "collapsed": false
   },
   "outputs": [
    {
     "name": "stdout",
     "output_type": "stream",
     "text": [
      "True\n",
      "True\n",
      "True\n"
     ]
    }
   ],
   "source": [
    "print is_list(mixed)\n",
    "print is_list(one)\n",
    "print is_list(two)\n"
   ]
  },
  {
   "cell_type": "code",
   "execution_count": null,
   "metadata": {
    "collapsed": true
   },
   "outputs": [],
   "source": []
  }
 ],
 "metadata": {
  "kernelspec": {
   "display_name": "Python 2",
   "language": "python",
   "name": "python2"
  },
  "language_info": {
   "codemirror_mode": {
    "name": "ipython",
    "version": 2
   },
   "file_extension": ".py",
   "mimetype": "text/x-python",
   "name": "python",
   "nbconvert_exporter": "python",
   "pygments_lexer": "ipython2",
   "version": "2.7.11"
  }
 },
 "nbformat": 4,
 "nbformat_minor": 0
}
