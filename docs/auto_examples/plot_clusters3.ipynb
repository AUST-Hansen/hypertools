{
  "nbformat_minor": 0, 
  "nbformat": 4, 
  "cells": [
    {
      "execution_count": null, 
      "cell_type": "code", 
      "source": [
        "%matplotlib inline"
      ], 
      "outputs": [], 
      "metadata": {
        "collapsed": false
      }
    }, 
    {
      "source": [
        "\n# Discovering clusters using HDBSCAN\n\n\nTo make use of HDBSCAN as the clustering algorithm used to discover clusters,\nyou must specify it as the cluster argument. If you wish to specify HDBSCAN\nparameters you will need the dictionary form which includes both the model\nand the params. Since HDBSCAN does not require the number of clusters,\nn_clusters does not need to be set.\n\n"
      ], 
      "cell_type": "markdown", 
      "metadata": {}
    }, 
    {
      "execution_count": null, 
      "cell_type": "code", 
      "source": [
        "# Code source: Andrew Heusser and Leland McInnes\n# License: MIT\n\n# import\nimport hypertools as hyp\nimport pandas as pd\n\n# load example data\ngeo = hyp.load('mushrooms')\n\n# plot\ngeo.plot(cluster={'model':'HDBSCAN',\n                             'params': {'min_samples':5,\n                                        'min_cluster_size':30}})"
      ], 
      "outputs": [], 
      "metadata": {
        "collapsed": false
      }
    }
  ], 
  "metadata": {
    "kernelspec": {
      "display_name": "Python 2", 
      "name": "python2", 
      "language": "python"
    }, 
    "language_info": {
      "mimetype": "text/x-python", 
      "nbconvert_exporter": "python", 
      "name": "python", 
      "file_extension": ".py", 
      "version": "2.7.11", 
      "pygments_lexer": "ipython2", 
      "codemirror_mode": {
        "version": 2, 
        "name": "ipython"
      }
    }
  }
}