{
  "nbformat_minor": 0, 
  "nbformat": 4, 
  "cells": [
    {
      "execution_count": null, 
      "cell_type": "code", 
      "source": [
        "%matplotlib inline"
      ], 
      "outputs": [], 
      "metadata": {
        "collapsed": false
      }
    }, 
    {
      "source": [
        "\n# Grouping data by category\n\n\nWhen plotting, its useful to have a way to color points by some category or\nvariable.  Hypertools does this using the `hue` kwarg, which takes a list\nof string category labels or numerical values.  If text labels are passed, the\ndata is restructured according to those labels and plotted in different colors\naccording to your color palette.  If numerical values are passed, the values\nare binned (default resolution: 100) and plotted according to your color\npalette.\n\n"
      ], 
      "cell_type": "markdown", 
      "metadata": {}
    }, 
    {
      "execution_count": null, 
      "cell_type": "code", 
      "source": [
        "# Code source: Andrew Heusser\n# License: MIT\n\n# import\nimport hypertools as hyp\nimport numpy as np\n\n# load example data\ngeo = hyp.load('weights_sample')\ndata = geo.get_data()\n\n# simulate random groups\nhue=[]\nfor idx,i in enumerate(data):\n    tmp=[]\n    for iidx,ii in enumerate(i):\n            tmp.append(int(np.random.randint(1000, size=1)))\n    hue.append(tmp)\n\n# plot\ngeo.plot(fmt='.', hue=hue)"
      ], 
      "outputs": [], 
      "metadata": {
        "collapsed": false
      }
    }
  ], 
  "metadata": {
    "kernelspec": {
      "display_name": "Python 2", 
      "name": "python2", 
      "language": "python"
    }, 
    "language_info": {
      "mimetype": "text/x-python", 
      "nbconvert_exporter": "python", 
      "name": "python", 
      "file_extension": ".py", 
      "version": "2.7.11", 
      "pygments_lexer": "ipython2", 
      "codemirror_mode": {
        "version": 2, 
        "name": "ipython"
      }
    }
  }
}