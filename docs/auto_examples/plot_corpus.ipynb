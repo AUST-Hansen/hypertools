{
  "nbformat_minor": 0, 
  "nbformat": 4, 
  "cells": [
    {
      "execution_count": null, 
      "cell_type": "code", 
      "source": [
        "%matplotlib inline"
      ], 
      "outputs": [], 
      "metadata": {
        "collapsed": false
      }
    }, 
    {
      "source": [
        "\n# Defining a custom corpus for plotting text\n\n\nBy default, the text samples will be transformed into a vector of word counts\nand then modeled using Latent Dirichlet Allocation (# of topics = 100) using a\nmodel fit to a large sample of wikipedia pages.  However, you can optionally\npass your own text to fit the semantic model. To do this define corpus as a\nlist of documents (strings). A topic model will be fit on the fly and the text\nwill be plotted.\n\n"
      ], 
      "cell_type": "markdown", 
      "metadata": {}
    }, 
    {
      "execution_count": null, 
      "cell_type": "code", 
      "source": [
        "# Code source: Andrew Heusser\n# License: MIT\n\n# load hypertools\nimport hypertools as hyp\n\n# load the data\ntext_samples = ['i like cats alot', 'cats r pretty cool', 'cats are better than dogs',\n        'dogs rule the haus', 'dogs are my jam', 'dogs are a mans best friend',\n        'i haz a cheezeburger?']\n\n# plot it\nhyp.plot(text_samples, 'o', corpus=text_samples)"
      ], 
      "outputs": [], 
      "metadata": {
        "collapsed": false
      }
    }
  ], 
  "metadata": {
    "kernelspec": {
      "display_name": "Python 2", 
      "name": "python2", 
      "language": "python"
    }, 
    "language_info": {
      "mimetype": "text/x-python", 
      "nbconvert_exporter": "python", 
      "name": "python", 
      "file_extension": ".py", 
      "version": "2.7.11", 
      "pygments_lexer": "ipython2", 
      "codemirror_mode": {
        "version": 2, 
        "name": "ipython"
      }
    }
  }
}