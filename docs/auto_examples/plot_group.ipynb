{
  "nbformat_minor": 0, 
  "nbformat": 4, 
  "cells": [
    {
      "execution_count": null, 
      "cell_type": "code", 
      "source": [
        "%matplotlib inline"
      ], 
      "outputs": [], 
      "metadata": {
        "collapsed": false
      }
    }, 
    {
      "source": [
        "\n# Grouping data by category\n\n\nWhen plotting, its useful to have a way to color points by some category or\nvariable.  Hypertools does this using the `group` kwarg, which takes a list\nof string category labels or numerical values.  If text labels are passed, the\ndata is restructured according to those labels and plotted in different colors\naccording to your color palette.  If numerical values are passed, the values\nare binned (default resolution: 100) and plotted according to your color\npalette.\n\n"
      ], 
      "cell_type": "markdown", 
      "metadata": {}
    }, 
    {
      "execution_count": null, 
      "cell_type": "code", 
      "source": [
        "# Code source: Andrew Heusser\n# License: MIT\n\nimport hypertools as hyp\nimport scipy.io as sio\nimport numpy as np\n\ndata = hyp.tools.load('weights')\nw=[i for i in data[0:3]]\n\ngroup = [['a' if idx % 2 == 0 else 'b' for idx,j in enumerate(i)] for i in w]\nhyp.plot(w,'o',group=group)\n\ngroup=[]\nfor idx,i in enumerate(w):\n    tmp=[]\n    for iidx,ii in enumerate(i):\n            tmp.append(int(np.random.randint(1000, size=1)))\n    group.append(tmp)\n\nhyp.plot(w,'o',group=group)"
      ], 
      "outputs": [], 
      "metadata": {
        "collapsed": false
      }
    }
  ], 
  "metadata": {
    "kernelspec": {
      "display_name": "Python 2", 
      "name": "python2", 
      "language": "python"
    }, 
    "language_info": {
      "mimetype": "text/x-python", 
      "nbconvert_exporter": "python", 
      "name": "python", 
      "file_extension": ".py", 
      "version": "2.7.11", 
      "pygments_lexer": "ipython2", 
      "codemirror_mode": {
        "version": 2, 
        "name": "ipython"
      }
    }
  }
}