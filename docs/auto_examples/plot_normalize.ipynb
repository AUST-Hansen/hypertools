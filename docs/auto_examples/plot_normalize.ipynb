{
  "nbformat_minor": 0, 
  "nbformat": 4, 
  "cells": [
    {
      "execution_count": null, 
      "cell_type": "code", 
      "source": [
        "%matplotlib inline"
      ], 
      "outputs": [], 
      "metadata": {
        "collapsed": false
      }
    }, 
    {
      "source": [
        "\n# Normalizing your features\n\n\nOften times its useful to normalize (z-score) you features before plotting, so\nthat they are on the same scale.  Otherwise, some features will be weighted more\nheavily than others when doing PCA, and that may or may not be what you want.\nThe `normalize` kwarg can be passed to the plot function.  If `normalize` is\nset to 'across', the zscore will be computed for the column across all of the\nlists passed.  Conversely, if `normalize` is set to 'within', the z-score will\nbe computed separately for each column in each list.  Finally, if `normalize` is\nset to 'row', each row of the matrix will be zscored.  Alternative, you can use\nthe normalize function found in tools (see the third example).\n\n"
      ], 
      "cell_type": "markdown", 
      "metadata": {}
    }, 
    {
      "execution_count": null, 
      "cell_type": "code", 
      "source": [
        "# Code source: Andrew Heusser\n# License: MIT\n\nimport hypertools as hyp\nimport scipy.io as sio\nimport numpy as np\nimport matplotlib.pyplot as plt\n\ncluster1 = np.random.multivariate_normal(np.zeros(3), np.eye(3), size=100)\ncluster2 = np.random.multivariate_normal(np.zeros(3)+10, np.eye(3), size=100)\n\ndata = [cluster1,cluster2]\n\nfig,ax,data = hyp.plot(data, 'o', normalize='across', show=False, return_data=True)\nax.set_title('z-score columns across all lists')\nplt.show()\n\nfig,ax,data = hyp.plot(data, 'o', normalize='within', show=False, return_data=True)\nax.set_title('z-score columns within each list')\nplt.show()\n\nnormalized_row = hyp.tools.normalize(data,normalize='row')\nfig,ax,data = hyp.plot(normalized_row, 'o', show=False, return_data=True)\nax.set_title('z-score each row')\nplt.show()"
      ], 
      "outputs": [], 
      "metadata": {
        "collapsed": false
      }
    }
  ], 
  "metadata": {
    "kernelspec": {
      "display_name": "Python 2", 
      "name": "python2", 
      "language": "python"
    }, 
    "language_info": {
      "mimetype": "text/x-python", 
      "nbconvert_exporter": "python", 
      "name": "python", 
      "file_extension": ".py", 
      "version": "2.7.11", 
      "pygments_lexer": "ipython2", 
      "codemirror_mode": {
        "version": 2, 
        "name": "ipython"
      }
    }
  }
}