{
  "nbformat_minor": 0, 
  "nbformat": 4, 
  "cells": [
    {
      "execution_count": null, 
      "cell_type": "code", 
      "source": [
        "%matplotlib inline"
      ], 
      "outputs": [], 
      "metadata": {
        "collapsed": false
      }
    }, 
    {
      "source": [
        "\n# Hyperalign a list of arrays and create an animated plot\n\n\nThe sample data is a list of 2D arrays, where each array is fMRI brain activity\nfrom one subject.  The rows are timepoints and the columns are neural\n'features'.  First, the matrices are hyperaligned using hyp.tools.align.\n\n"
      ], 
      "cell_type": "markdown", 
      "metadata": {}
    }, 
    {
      "execution_count": null, 
      "cell_type": "code", 
      "source": [
<<<<<<< HEAD
        "# Code source: Andrew Heusser\n# License: MIT\n\n# import\nimport hypertools as hyp\nimport numpy as np\n\n# load example data\ndata = hyp.load('weights', align=True)\n\n# average into two groups\nw1 = np.mean(data[:17],0)\nw2 = np.mean(data[18:],0)\n\n# plot\nhyp.plot([w1, w2], animate=True)"
=======
        "# Code source: Andrew Heusser\n# License: MIT\n\n# import\nimport hypertools as hyp\nimport numpy as np\n\n# load example data\ndata = hyp.tools.load('weights', align=True)\n\n# average into two groups\nw1 = np.mean(data[:17],0)\nw2 = np.mean(data[18:],0)\n\n# plot\nhyp.plot([w1, w2], animate=True)"
>>>>>>> 44fe07e96e8f109b3023a70c8716b20c71f07764
      ], 
      "outputs": [], 
      "metadata": {
        "collapsed": false
      }
    }
  ], 
  "metadata": {
    "kernelspec": {
      "display_name": "Python 2", 
      "name": "python2", 
      "language": "python"
    }, 
    "language_info": {
      "mimetype": "text/x-python", 
      "nbconvert_exporter": "python", 
      "name": "python", 
      "file_extension": ".py", 
      "version": "2.7.11", 
      "pygments_lexer": "ipython2", 
      "codemirror_mode": {
        "version": 2, 
        "name": "ipython"
      }
    }
  }
}