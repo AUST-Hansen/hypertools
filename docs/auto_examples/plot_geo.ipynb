{
  "nbformat_minor": 0, 
  "nbformat": 4, 
  "cells": [
    {
      "execution_count": null, 
      "cell_type": "code", 
      "source": [
        "%matplotlib inline"
      ], 
      "outputs": [], 
      "metadata": {
        "collapsed": false
      }
    }, 
    {
      "source": [
        "\n=============================\nA DataGeometry object or \"geo\"\n=============================\n\nWhen the plot function is called, it returns a DataGeometry object, or geo. A\ngeo contains all the pieces needed to regenerate the plot. You can use the geo\nplot method to evaluate the same plot with new arguments, like changing the color\nof the points, or trying a different normalization method.  To save the plot,\nsimply call geo.save(fname), where fname is a file name/path.  Then, this file\ncan be reloaded using hyp.load to be plotted again at another time.  Finally,\nthe transform method can be used to transform new data using the same transformations\nthat were applied to the geo.\n\n"
      ], 
      "cell_type": "markdown", 
      "metadata": {}
    }, 
    {
      "execution_count": null, 
      "cell_type": "code", 
      "source": [
        "# Code source: Andrew Heusser\n# License: MIT\n\n# import\nimport hypertools as hyp\n\n# load some data\ndata, labels = hyp.load('mushrooms')\n\n# create a DataGeometry object\ngeo = hyp.plot(data, '.')\n\n# replot with new parameters\ngeo.plot(color='green', normalize='across')\n\n# save the object\n# geo.save('test')\n\n# load it back in\n# geo = hyp.load('test.geo')\n\n# transform some new data\n# transformed_data = geo.transform(data)\n\n# transform some 'new' data and plot it\n# hyp.plot(transformed_data, '.')\n\n# get a copy of the data\n# geo.get_data()\n\n# get the formatted data\n# geo.get_formatted_data()"
      ], 
      "outputs": [], 
      "metadata": {
        "collapsed": false
      }
    }
  ], 
  "metadata": {
    "kernelspec": {
      "display_name": "Python 2", 
      "name": "python2", 
      "language": "python"
    }, 
    "language_info": {
      "mimetype": "text/x-python", 
      "nbconvert_exporter": "python", 
      "name": "python", 
      "file_extension": ".py", 
      "version": "2.7.11", 
      "pygments_lexer": "ipython2", 
      "codemirror_mode": {
        "version": 2, 
        "name": "ipython"
      }
    }
  }
}