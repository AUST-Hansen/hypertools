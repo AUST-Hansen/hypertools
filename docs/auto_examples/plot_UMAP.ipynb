{
  "nbformat_minor": 0, 
  "nbformat": 4, 
  "cells": [
    {
      "execution_count": null, 
      "cell_type": "code", 
      "source": [
        "%matplotlib inline"
      ], 
      "outputs": [], 
      "metadata": {
        "collapsed": false
      }
    }, 
    {
      "source": [
        "\n# Visualizing the digits dataset using UMAP\n\n\nThis example loads in some data from the scikit-learn digits dataset and plots\nit using UMAP.\n\n"
      ], 
      "cell_type": "markdown", 
      "metadata": {}
    }, 
    {
      "execution_count": null, 
      "cell_type": "code", 
      "source": [
        "# Code source: Andrew Heusser and Leland McInnes\n# License: MIT\n\nfrom sklearn import datasets\nimport hypertools as hyp\n\ndigits = datasets.load_digits(n_class=6)\ndata = digits.data\nhue = digits.target.astype('str')\n\nhyp.plot(data, '.', reduce='UMAP', hue=hue, ndims=2)"
      ], 
      "outputs": [], 
      "metadata": {
        "collapsed": false
      }
    }
  ], 
  "metadata": {
    "kernelspec": {
      "display_name": "Python 2", 
      "name": "python2", 
      "language": "python"
    }, 
    "language_info": {
      "mimetype": "text/x-python", 
      "nbconvert_exporter": "python", 
      "name": "python", 
      "file_extension": ".py", 
      "version": "2.7.11", 
      "pygments_lexer": "ipython2", 
      "codemirror_mode": {
        "version": 2, 
        "name": "ipython"
      }
    }
  }
}