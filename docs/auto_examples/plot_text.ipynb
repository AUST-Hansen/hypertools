{
  "nbformat_minor": 0, 
  "nbformat": 4, 
  "cells": [
    {
      "execution_count": null, 
      "cell_type": "code", 
      "source": [
        "%matplotlib inline"
      ], 
      "outputs": [], 
      "metadata": {
        "collapsed": false
      }
    }, 
    {
      "source": [
        "\n# Plotting text\n\n\nTo plot text, simply pass the text data to the plot function.  By default, the\ntext samples will be transformed into a vector of word counts and then modeled\nusing Latent Dirichlet Allocation (# of topics = 100) using a model fit to a\nlarge sample of wikipedia pages.  If you specify semantic=None, the word\ncount vectors will be plotted. To convert the text t0 a matrix (or list of\nmatrices), we also expose the format_data function.\n\n"
      ], 
      "cell_type": "markdown", 
      "metadata": {}
    }, 
    {
      "execution_count": null, 
      "cell_type": "code", 
      "source": [
        "# Code source: Andrew Heusser\n# License: MIT\n\n# load hypertools\nimport hypertools as hyp\n\n# load the data\ndata = [['i like cats alot', 'cats r pretty cool', 'cats are better than dogs'],\n        ['dogs rule the haus', 'dogs are my jam', 'dogs are a mans best friend'],\n        'i haz a cheezeburger?']\n\n# plot it\nhyp.plot(data, 'o')\n\n# convert text to matrix without plotting\n# mtx = hyp.tools.format_data(data, vectorizer='TfidfVectorizer', semantic='NMF')"
      ], 
      "outputs": [], 
      "metadata": {
        "collapsed": false
      }
    }
  ], 
  "metadata": {
    "kernelspec": {
      "display_name": "Python 2", 
      "name": "python2", 
      "language": "python"
    }, 
    "language_info": {
      "mimetype": "text/x-python", 
      "nbconvert_exporter": "python", 
      "name": "python", 
      "file_extension": ".py", 
      "version": "2.7.11", 
      "pygments_lexer": "ipython2", 
      "codemirror_mode": {
        "version": 2, 
        "name": "ipython"
      }
    }
  }
}