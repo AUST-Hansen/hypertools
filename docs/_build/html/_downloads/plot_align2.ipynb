{
  "nbformat_minor": 0, 
  "nbformat": 4, 
  "cells": [
    {
      "execution_count": null, 
      "cell_type": "code", 
      "source": [
        "%matplotlib inline"
      ], 
      "outputs": [], 
      "metadata": {
        "collapsed": false
      }
    }, 
    {
      "source": [
        "\n# Choosing the thumbnail figure\n\n\nAn example to demonstrate how to choose which figure is displayed as the\nthumbnail if the example generates more than one figure. This is done by\nspecifying the keyword-value pair ``sphinx_gallery_thumbnail_number = 2`` as a\ncomment somewhere below the docstring in the example file.\n\n"
      ], 
      "cell_type": "markdown", 
      "metadata": {}
    }, 
    {
      "execution_count": null, 
      "cell_type": "code", 
      "source": [
        "# Code source: Andrew Heusser\n# License: MIT\n\nimport hypertools as hyp\nimport scipy.io as sio\nimport numpy as np\nimport matplotlib.pyplot as plt\n\ndata = sio.loadmat('sample_data/test_data.mat')\ndata1 = data['spiral']\n\n# A random rotation matrix\nrot = np.array([[-0.89433495, -0.44719485, -0.01348182],\n       [-0.43426149,  0.87492975, -0.21427761],\n       [-0.10761949,  0.18578133,  0.97667976]])\n# creating new spiral with some noise\ndata_rot = np.dot(data1, rot) + np.random.randn(data1.shape[0], data1.shape[1])*0.05\n\n# Before hyperalignment\nfig,ax,data = hyp.plot([data1, data_rot], show=False, return_data=True)\nax.set_title('Before Alignment')\nplt.show()\n\n# After hyperalignment\nfig,ax,data = hyp.plot(hyp.tools.align([data1, data_rot]), show=False, return_data=True)\nax.set_title('After Alignment')\nplt.show()"
      ], 
      "outputs": [], 
      "metadata": {
        "collapsed": false
      }
    }
  ], 
  "metadata": {
    "kernelspec": {
      "display_name": "Python 2", 
      "name": "python2", 
      "language": "python"
    }, 
    "language_info": {
      "mimetype": "text/x-python", 
      "nbconvert_exporter": "python", 
      "name": "python", 
      "file_extension": ".py", 
      "version": "2.7.11", 
      "pygments_lexer": "ipython2", 
      "codemirror_mode": {
        "version": 2, 
        "name": "ipython"
      }
    }
  }
}