{
  "nbformat_minor": 0, 
  "nbformat": 4, 
  "cells": [
    {
      "execution_count": null, 
      "cell_type": "code", 
      "source": [
        "%matplotlib inline"
      ], 
      "outputs": [], 
      "metadata": {
        "collapsed": false
      }
    }, 
    {
      "source": [
        "\n# Hyperalign a list of arrays and create an animated plot\n\n\nThe sample data is a list of 2D arrays, where each array is fMRI brain activity\nfrom one subject.  The rows are timepoints and the columns are neural\n'features'.  First, the matrices are hyperaligned using hyp.tools.align.\n\n"
      ], 
      "cell_type": "markdown", 
      "metadata": {}
    }, 
    {
      "execution_count": null, 
      "cell_type": "code", 
      "source": [
        "# Code source: Andrew Heusser\n# License: MIT\n\nimport hypertools as hyp\nimport scipy.io as sio\nimport numpy as np\n\ndata = hyp.tools.load('weights')\naligned_w = hyp.tools.align(data)\n\nw1 = np.mean(aligned_w[:17],0)\nw2 = np.mean(aligned_w[18:],0)\n\nhyp.plot([w1, w2], animate=True)"
      ], 
      "outputs": [], 
      "metadata": {
        "collapsed": false
      }
    }
  ], 
  "metadata": {
    "kernelspec": {
      "display_name": "Python 2", 
      "name": "python2", 
      "language": "python"
    }, 
    "language_info": {
      "mimetype": "text/x-python", 
      "nbconvert_exporter": "python", 
      "name": "python", 
      "file_extension": ".py", 
      "version": "2.7.11", 
      "pygments_lexer": "ipython2", 
      "codemirror_mode": {
        "version": 2, 
        "name": "ipython"
      }
    }
  }
}