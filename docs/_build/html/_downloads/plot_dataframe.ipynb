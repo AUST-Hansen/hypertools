{
  "nbformat_minor": 0, 
  "nbformat": 4, 
  "cells": [
    {
      "execution_count": null, 
      "cell_type": "code", 
      "source": [
        "%matplotlib inline"
      ], 
      "outputs": [], 
      "metadata": {
        "collapsed": false
      }
    }, 
    {
      "source": [
        "\n# Plotting a Pandas Dataframe\n\n\nHypertools supports single-index Pandas Dataframes as input. In this example, we\nplot the mushrooms dataset from the kaggle database.  This is a dataset of text\nfeatures describing different attributes of a mushroom. Dataframes that contain\ncolumns with text are converted into binary feature vectors representing the\npresence or absences of the feature (see Pandas.Dataframe.get_dummies for more).\n\n"
      ], 
      "cell_type": "markdown", 
      "metadata": {}
    }, 
    {
      "execution_count": null, 
      "cell_type": "code", 
      "source": [
        "# Code source: Andrew Heusser\n# License: MIT\n\nimport hypertools as hyp\nimport pandas as pd\n\ndata = hyp.tools.load('mushrooms')\n\ngroup = data.pop('class')\n\nhyp.plot(data,'o', group=group)"
      ], 
      "outputs": [], 
      "metadata": {
        "collapsed": false
      }
    }
  ], 
  "metadata": {
    "kernelspec": {
      "display_name": "Python 2", 
      "name": "python2", 
      "language": "python"
    }, 
    "language_info": {
      "mimetype": "text/x-python", 
      "nbconvert_exporter": "python", 
      "name": "python", 
      "file_extension": ".py", 
      "version": "2.7.11", 
      "pygments_lexer": "ipython2", 
      "codemirror_mode": {
        "version": 2, 
        "name": "ipython"
      }
    }
  }
}