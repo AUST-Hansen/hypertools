{
  "nbformat_minor": 0, 
  "nbformat": 4, 
  "cells": [
    {
      "execution_count": null, 
      "cell_type": "code", 
      "source": [
        "%matplotlib inline"
      ], 
      "outputs": [], 
      "metadata": {
        "collapsed": false
      }
    }, 
    {
      "source": [
        "\n# Aligning matrices to a common space\n\n\nIn this example, we plot the trajectory of multivariate brain activity for\ntwo groups of subjects that have been hyperaligned (Haxby et al, 2011).  First,\nwe use the align tool to project all subjects in the list to a common space.\nThen we average the data into two groups, and plot.\n\n"
      ], 
      "cell_type": "markdown", 
      "metadata": {}
    }, 
    {
      "execution_count": null, 
      "cell_type": "code", 
      "source": [
        "# Code source: Andrew Heusser\n# License: MIT\n\nimport hypertools as hyp\nimport scipy.io as sio\nimport numpy as np\n\ndata = hyp.tools.load('weights')\nw = [i for i in data]\naligned_w = hyp.tools.align(w)\n\nw1 = np.mean(aligned_w[:17],0)\nw2 = np.mean(aligned_w[18:],0)\n\nhyp.plot([w1[:100,:],w2[:100,:]])"
      ], 
      "outputs": [], 
      "metadata": {
        "collapsed": false
      }
    }
  ], 
  "metadata": {
    "kernelspec": {
      "display_name": "Python 2", 
      "name": "python2", 
      "language": "python"
    }, 
    "language_info": {
      "mimetype": "text/x-python", 
      "nbconvert_exporter": "python", 
      "name": "python", 
      "file_extension": ".py", 
      "version": "2.7.11", 
      "pygments_lexer": "ipython2", 
      "codemirror_mode": {
        "version": 2, 
        "name": "ipython"
      }
    }
  }
}