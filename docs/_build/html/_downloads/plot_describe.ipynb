{
  "nbformat_minor": 0, 
  "nbformat": 4, 
  "cells": [
    {
      "execution_count": null, 
      "cell_type": "code", 
      "source": [
        "%matplotlib inline"
      ], 
      "outputs": [], 
      "metadata": {
        "collapsed": false
      }
    }, 
    {
      "source": [
        "\n# Using describe_pca to evaluate the integrity of your visualization\n\n\nThe downside to using PCA to visualize your data is that some variance will\nlikely be removed. To help get a sense for the integrity of your low\ndimensional visualizations, we built the `describe_pca` function, which computes\nthe covariance (samples by samples) of both the raw and reduced datasets, and\nplots their correlation.  The function repeats this analysis from 2:N dimensions\nuntil the correlation reaches a local maximum.  Often times this will be less\nthan the total number of dimensions because the PCA model is whitened.\n\n"
      ], 
      "cell_type": "markdown", 
      "metadata": {}
    }, 
    {
      "execution_count": null, 
      "cell_type": "code", 
      "source": [
        "# Code source: Andrew Heusser\n# License: MIT\n\nimport hypertools as hyp\nimport scipy.io as sio\nimport numpy as np\n\ndata = hyp.tools.load('weights_sample')\n\nhyp.tools.describe_pca(data)"
      ], 
      "outputs": [], 
      "metadata": {
        "collapsed": false
      }
    }
  ], 
  "metadata": {
    "kernelspec": {
      "display_name": "Python 2", 
      "name": "python2", 
      "language": "python"
    }, 
    "language_info": {
      "mimetype": "text/x-python", 
      "nbconvert_exporter": "python", 
      "name": "python", 
      "file_extension": ".py", 
      "version": "2.7.11", 
      "pygments_lexer": "ipython2", 
      "codemirror_mode": {
        "version": 2, 
        "name": "ipython"
      }
    }
  }
}