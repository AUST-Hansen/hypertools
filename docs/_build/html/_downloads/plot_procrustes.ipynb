{
  "nbformat_minor": 0, 
  "nbformat": 4, 
  "cells": [
    {
      "execution_count": null, 
      "cell_type": "code", 
      "source": [
        "%matplotlib inline"
      ], 
      "outputs": [], 
      "metadata": {
        "collapsed": false
      }
    }, 
    {
      "source": [
        "\n# Aligning two matrices with the procrustes function\n\n\nIn this example, we load in some synthetic data, rotate it, and then use the\nprocustes function to get the datasets back in alignment.  The procrustes\nfunction uses linear transformations to project a source matrix into the\nspace of a target matrix.\n\n"
      ], 
      "cell_type": "markdown", 
      "metadata": {}
    }, 
    {
      "execution_count": null, 
      "cell_type": "code", 
      "source": [
        "# Code source: Andrew Heusser\n# License: MIT\n\nimport hypertools as hyp\nimport scipy.io as sio\nimport numpy as np\nimport matplotlib.pyplot as plt\n\ndata = hyp.tools.load('spiral')\ntarget = data\n\n# A random rotation matrix\nrot = np.array([[-0.89433495, -0.44719485, -0.01348182],\n       [-0.43426149,  0.87492975, -0.21427761],\n       [-0.10761949,  0.18578133,  0.97667976]])\n# creating new spiral with some noise\nsource = np.dot(target, rot)\n\n# Before hyperalignment\nfig,ax,data = hyp.plot([target, source], show=False, return_data=True)\nax.set_title('Before Procrustes')\nplt.show()\n\n# After hyperalignment\nfig,ax,data = hyp.plot([hyp.tools.procrustes(source, target), target], ['-','--'], show=False, return_data=True)\nax.set_title('After Procrustes')\nplt.show()"
      ], 
      "outputs": [], 
      "metadata": {
        "collapsed": false
      }
    }
  ], 
  "metadata": {
    "kernelspec": {
      "display_name": "Python 2", 
      "name": "python2", 
      "language": "python"
    }, 
    "language_info": {
      "mimetype": "text/x-python", 
      "nbconvert_exporter": "python", 
      "name": "python", 
      "file_extension": ".py", 
      "version": "2.7.11", 
      "pygments_lexer": "ipython2", 
      "codemirror_mode": {
        "version": 2, 
        "name": "ipython"
      }
    }
  }
}