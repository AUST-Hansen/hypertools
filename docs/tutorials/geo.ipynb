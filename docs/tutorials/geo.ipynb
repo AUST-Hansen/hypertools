{
 "cells": [
  {
   "cell_type": "markdown",
   "metadata": {},
   "source": [
    "# DataGeometry objects (`geo`)"
   ]
  },
  {
   "cell_type": "markdown",
   "metadata": {},
   "source": [
    "The DataGeometry object is the hypertools data object class. A `geo` contains the data, figure handles, and transform functions used to create a plot. Note that this class should not be called directly, but is used by the hyp.plot function to create a plot object.\n",
    "\n",
    "In this tutorial we will explore the features of a geo and how it may be used."
   ]
  },
  {
   "cell_type": "markdown",
   "metadata": {},
   "source": [
    "## Import Hypertools"
   ]
  },
  {
   "cell_type": "code",
   "execution_count": 1,
   "metadata": {},
   "outputs": [
    {
     "name": "stderr",
     "output_type": "stream",
     "text": [
      "/usr/local/lib/python3.6/site-packages/IPython/html.py:14: ShimWarning: The `IPython.html` package has been deprecated since IPython 4.0. You should import from `notebook` instead. `IPython.html.widgets` has moved to `ipywidgets`.\n",
      "  \"`IPython.html.widgets` has moved to `ipywidgets`.\", ShimWarning)\n"
     ]
    }
   ],
   "source": [
    "import hypertools as hyp\n",
    "\n",
    "%matplotlib inline"
   ]
  },
  {
   "cell_type": "markdown",
   "metadata": {},
   "source": [
    "## Load your data"
   ]
  },
  {
   "cell_type": "markdown",
   "metadata": {},
   "source": [
    "In this case, we have used one of the sample datasets built into the package."
   ]
  },
  {
   "cell_type": "code",
   "execution_count": 3,
   "metadata": {
    "collapsed": true
   },
   "outputs": [],
   "source": [
    "mushrooms = hyp.load('mushrooms')"
   ]
  },
  {
   "cell_type": "markdown",
   "metadata": {},
   "source": [
    "We can peek at the first few rows of the dataframe using the pandas function `head`."
   ]
  },
  {
   "cell_type": "code",
   "execution_count": 4,
   "metadata": {},
   "outputs": [
    {
     "data": {
      "text/html": [
       "<div>\n",
       "<table border=\"1\" class=\"dataframe\">\n",
       "  <thead>\n",
       "    <tr style=\"text-align: right;\">\n",
       "      <th></th>\n",
       "      <th>class</th>\n",
       "      <th>cap-shape</th>\n",
       "      <th>cap-surface</th>\n",
       "      <th>cap-color</th>\n",
       "      <th>bruises</th>\n",
       "      <th>odor</th>\n",
       "      <th>gill-attachment</th>\n",
       "      <th>gill-spacing</th>\n",
       "      <th>gill-size</th>\n",
       "      <th>gill-color</th>\n",
       "      <th>...</th>\n",
       "      <th>stalk-surface-below-ring</th>\n",
       "      <th>stalk-color-above-ring</th>\n",
       "      <th>stalk-color-below-ring</th>\n",
       "      <th>veil-type</th>\n",
       "      <th>veil-color</th>\n",
       "      <th>ring-number</th>\n",
       "      <th>ring-type</th>\n",
       "      <th>spore-print-color</th>\n",
       "      <th>population</th>\n",
       "      <th>habitat</th>\n",
       "    </tr>\n",
       "  </thead>\n",
       "  <tbody>\n",
       "    <tr>\n",
       "      <th>0</th>\n",
       "      <td>p</td>\n",
       "      <td>x</td>\n",
       "      <td>s</td>\n",
       "      <td>n</td>\n",
       "      <td>t</td>\n",
       "      <td>p</td>\n",
       "      <td>f</td>\n",
       "      <td>c</td>\n",
       "      <td>n</td>\n",
       "      <td>k</td>\n",
       "      <td>...</td>\n",
       "      <td>s</td>\n",
       "      <td>w</td>\n",
       "      <td>w</td>\n",
       "      <td>p</td>\n",
       "      <td>w</td>\n",
       "      <td>o</td>\n",
       "      <td>p</td>\n",
       "      <td>k</td>\n",
       "      <td>s</td>\n",
       "      <td>u</td>\n",
       "    </tr>\n",
       "    <tr>\n",
       "      <th>1</th>\n",
       "      <td>e</td>\n",
       "      <td>x</td>\n",
       "      <td>s</td>\n",
       "      <td>y</td>\n",
       "      <td>t</td>\n",
       "      <td>a</td>\n",
       "      <td>f</td>\n",
       "      <td>c</td>\n",
       "      <td>b</td>\n",
       "      <td>k</td>\n",
       "      <td>...</td>\n",
       "      <td>s</td>\n",
       "      <td>w</td>\n",
       "      <td>w</td>\n",
       "      <td>p</td>\n",
       "      <td>w</td>\n",
       "      <td>o</td>\n",
       "      <td>p</td>\n",
       "      <td>n</td>\n",
       "      <td>n</td>\n",
       "      <td>g</td>\n",
       "    </tr>\n",
       "    <tr>\n",
       "      <th>2</th>\n",
       "      <td>e</td>\n",
       "      <td>b</td>\n",
       "      <td>s</td>\n",
       "      <td>w</td>\n",
       "      <td>t</td>\n",
       "      <td>l</td>\n",
       "      <td>f</td>\n",
       "      <td>c</td>\n",
       "      <td>b</td>\n",
       "      <td>n</td>\n",
       "      <td>...</td>\n",
       "      <td>s</td>\n",
       "      <td>w</td>\n",
       "      <td>w</td>\n",
       "      <td>p</td>\n",
       "      <td>w</td>\n",
       "      <td>o</td>\n",
       "      <td>p</td>\n",
       "      <td>n</td>\n",
       "      <td>n</td>\n",
       "      <td>m</td>\n",
       "    </tr>\n",
       "    <tr>\n",
       "      <th>3</th>\n",
       "      <td>p</td>\n",
       "      <td>x</td>\n",
       "      <td>y</td>\n",
       "      <td>w</td>\n",
       "      <td>t</td>\n",
       "      <td>p</td>\n",
       "      <td>f</td>\n",
       "      <td>c</td>\n",
       "      <td>n</td>\n",
       "      <td>n</td>\n",
       "      <td>...</td>\n",
       "      <td>s</td>\n",
       "      <td>w</td>\n",
       "      <td>w</td>\n",
       "      <td>p</td>\n",
       "      <td>w</td>\n",
       "      <td>o</td>\n",
       "      <td>p</td>\n",
       "      <td>k</td>\n",
       "      <td>s</td>\n",
       "      <td>u</td>\n",
       "    </tr>\n",
       "    <tr>\n",
       "      <th>4</th>\n",
       "      <td>e</td>\n",
       "      <td>x</td>\n",
       "      <td>s</td>\n",
       "      <td>g</td>\n",
       "      <td>f</td>\n",
       "      <td>n</td>\n",
       "      <td>f</td>\n",
       "      <td>w</td>\n",
       "      <td>b</td>\n",
       "      <td>k</td>\n",
       "      <td>...</td>\n",
       "      <td>s</td>\n",
       "      <td>w</td>\n",
       "      <td>w</td>\n",
       "      <td>p</td>\n",
       "      <td>w</td>\n",
       "      <td>o</td>\n",
       "      <td>e</td>\n",
       "      <td>n</td>\n",
       "      <td>a</td>\n",
       "      <td>g</td>\n",
       "    </tr>\n",
       "  </tbody>\n",
       "</table>\n",
       "<p>5 rows × 23 columns</p>\n",
       "</div>"
      ],
      "text/plain": [
       "  class cap-shape cap-surface cap-color bruises odor gill-attachment  \\\n",
       "0     p         x           s         n       t    p               f   \n",
       "1     e         x           s         y       t    a               f   \n",
       "2     e         b           s         w       t    l               f   \n",
       "3     p         x           y         w       t    p               f   \n",
       "4     e         x           s         g       f    n               f   \n",
       "\n",
       "  gill-spacing gill-size gill-color   ...   stalk-surface-below-ring  \\\n",
       "0            c         n          k   ...                          s   \n",
       "1            c         b          k   ...                          s   \n",
       "2            c         b          n   ...                          s   \n",
       "3            c         n          n   ...                          s   \n",
       "4            w         b          k   ...                          s   \n",
       "\n",
       "  stalk-color-above-ring stalk-color-below-ring veil-type veil-color  \\\n",
       "0                      w                      w         p          w   \n",
       "1                      w                      w         p          w   \n",
       "2                      w                      w         p          w   \n",
       "3                      w                      w         p          w   \n",
       "4                      w                      w         p          w   \n",
       "\n",
       "  ring-number ring-type spore-print-color population habitat  \n",
       "0           o         p                 k          s       u  \n",
       "1           o         p                 n          n       g  \n",
       "2           o         p                 n          n       m  \n",
       "3           o         p                 k          s       u  \n",
       "4           o         e                 n          a       g  \n",
       "\n",
       "[5 rows x 23 columns]"
      ]
     },
     "execution_count": 4,
     "metadata": {},
     "output_type": "execute_result"
    }
   ],
   "source": [
    "mushrooms.head()"
   ]
  },
  {
   "cell_type": "markdown",
   "metadata": {},
   "source": [
    "## Plot data"
   ]
  },
  {
   "cell_type": "markdown",
   "metadata": {},
   "source": [
    "First, we will plot the data, generating a geo."
   ]
  },
  {
   "cell_type": "code",
   "execution_count": 5,
   "metadata": {},
   "outputs": [
    {
     "data": {
      "image/png": "[encoded data removed]",
      "text/plain": [
       "<matplotlib.figure.Figure at 0x10c520550>"
      ]
     },
     "metadata": {},
     "output_type": "display_data"
    }
   ],
   "source": [
    "geo = hyp.plot(mushrooms, '.')"
   ]
  },
  {
   "cell_type": "markdown",
   "metadata": {},
   "source": [
    "## Exploring the geo"
   ]
  },
  {
   "cell_type": "markdown",
   "metadata": {},
   "source": [
    "### Hypertools version"
   ]
  },
  {
   "cell_type": "markdown",
   "metadata": {},
   "source": [
    "The version field contains the version number of hypertools that the geo was generated with."
   ]
  },
  {
   "cell_type": "code",
   "execution_count": 6,
   "metadata": {},
   "outputs": [
    {
     "data": {
      "text/plain": [
       "'0.4.0'"
      ]
     },
     "execution_count": 6,
     "metadata": {},
     "output_type": "execute_result"
    }
   ],
   "source": [
    "geo.version"
   ]
  },
  {
   "cell_type": "markdown",
   "metadata": {},
   "source": [
    "### Data and plot"
   ]
  },
  {
   "cell_type": "markdown",
   "metadata": {},
   "source": [
    "The data field contains the raw data."
   ]
  },
  {
   "cell_type": "code",
   "execution_count": 8,
   "metadata": {},
   "outputs": [
    {
     "data": {
      "text/plain": [
       "[array([[0, 1, 0, ..., 0, 1, 0],\n",
       "        [1, 0, 0, ..., 0, 0, 0],\n",
       "        [1, 0, 1, ..., 0, 0, 0],\n",
       "        ..., \n",
       "        [1, 0, 0, ..., 0, 0, 0],\n",
       "        [0, 1, 0, ..., 0, 0, 0],\n",
       "        [1, 0, 0, ..., 0, 0, 0]], dtype=uint8)]"
      ]
     },
     "execution_count": 8,
     "metadata": {},
     "output_type": "execute_result"
    }
   ],
   "source": [
    "geo.data"
   ]
  },
  {
   "cell_type": "markdown",
   "metadata": {},
   "source": [
    "The `fig` field contains the figure itself."
   ]
  },
  {
   "cell_type": "code",
   "execution_count": 11,
   "metadata": {},
   "outputs": [
    {
     "data": {
      "image/png": "[encoded data removed]",
      "text/plain": [
       "<matplotlib.figure.Figure at 0x10c520550>"
      ]
     },
     "execution_count": 11,
     "metadata": {},
     "output_type": "execute_result"
    }
   ],
   "source": [
    "geo.fig"
   ]
  },
  {
   "cell_type": "markdown",
   "metadata": {},
   "source": [
    "### Transformed data"
   ]
  },
  {
   "cell_type": "markdown",
   "metadata": {},
   "source": [
    "The `xform_data` field contains the transformed data (in this case, the data was automatically reduced to 3 dimensions for plotting when we called `hyp.plot`)."
   ]
  },
  {
   "cell_type": "code",
   "execution_count": 12,
   "metadata": {},
   "outputs": [
    {
     "data": {
      "text/plain": [
       "[array([[ 0.66282511, -0.50030606,  1.60971357],\n",
       "        [ 1.5395065 , -0.25964717,  1.89064114],\n",
       "        [ 1.69285148, -0.2652148 ,  1.89496073],\n",
       "        ..., \n",
       "        [ 0.68330896, -0.29900591,  0.38257187],\n",
       "        [-1.47676276, -1.45182833, -0.16606786],\n",
       "        [ 0.66276601, -0.3111866 ,  0.60080039]])]"
      ]
     },
     "execution_count": 12,
     "metadata": {},
     "output_type": "execute_result"
    }
   ],
   "source": [
    "geo.xform_data"
   ]
  },
  {
   "cell_type": "markdown",
   "metadata": {},
   "source": [
    "### Normalize, reduce and align metadata"
   ]
  },
  {
   "cell_type": "markdown",
   "metadata": {},
   "source": [
    "The `reduce`, `align` and `normalize` fields contain information about the model and parameters used in each of the  analyses."
   ]
  },
  {
   "cell_type": "code",
   "execution_count": 16,
   "metadata": {},
   "outputs": [
    {
     "name": "stdout",
     "output_type": "stream",
     "text": [
      "None\n",
      "{'model': 'IncrementalPCA', 'params': {'n_components': 3}}\n",
      "{'model': None, 'params': {}}\n"
     ]
    }
   ],
   "source": [
    "print(geo.normalize)\n",
    "print(geo.reduce)\n",
    "print(geo.align)"
   ]
  },
  {
   "cell_type": "markdown",
   "metadata": {},
   "source": [
    "### Plotting axes and animations"
   ]
  },
  {
   "cell_type": "markdown",
   "metadata": {},
   "source": [
    "The `ax` and `line_ani` fields hold the plot axes and the animation setting (in this case None) for plotting, respectively."
   ]
  },
  {
   "cell_type": "code",
   "execution_count": 17,
   "metadata": {},
   "outputs": [
    {
     "data": {
      "text/plain": [
       "<matplotlib.axes._subplots.Axes3DSubplot at 0x10d56ab38>"
      ]
     },
     "execution_count": 17,
     "metadata": {},
     "output_type": "execute_result"
    }
   ],
   "source": [
    "geo.ax"
   ]
  },
  {
   "cell_type": "code",
   "execution_count": 18,
   "metadata": {
    "collapsed": true
   },
   "outputs": [],
   "source": [
    "geo.line_ani"
   ]
  },
  {
   "cell_type": "markdown",
   "metadata": {},
   "source": [
    "## Plotting with geos"
   ]
  },
  {
   "cell_type": "markdown",
   "metadata": {},
   "source": [
    "You can also generate a new plot (a new geo) from data stored in the geo using geo.plot.\n",
    "\n",
    "This plotting feature accepts all of the keyword arguments supported by hypertools.plot.\n",
    "\n",
    "First, let's plot without making any changes."
   ]
  },
  {
   "cell_type": "code",
   "execution_count": 19,
   "metadata": {},
   "outputs": [
    {
     "data": {
      "image/png": "[encoded data removed]",
      "text/plain": [
       "<matplotlib.figure.Figure at 0x105fcd2b0>"
      ]
     },
     "metadata": {},
     "output_type": "display_data"
    },
    {
     "data": {
      "text/plain": [
       "<hypertools.datageometry.DataGeometry at 0x10d8044a8>"
      ]
     },
     "execution_count": 19,
     "metadata": {},
     "output_type": "execute_result"
    }
   ],
   "source": [
    "geo.plot()"
   ]
  },
  {
   "cell_type": "markdown",
   "metadata": {},
   "source": [
    "Now, let's change the plot using some keyword arguments."
   ]
  },
  {
   "cell_type": "code",
   "execution_count": 20,
   "metadata": {},
   "outputs": [
    {
     "data": {
      "image/png": "[encoded data removed]",
      "text/plain": [
       "<matplotlib.figure.Figure at 0x10d53def0>"
      ]
     },
     "metadata": {},
     "output_type": "display_data"
    },
    {
     "data": {
      "text/plain": [
       "<hypertools.datageometry.DataGeometry at 0x10d97ebe0>"
      ]
     },
     "execution_count": 20,
     "metadata": {},
     "output_type": "execute_result"
    }
   ],
   "source": [
    "geo.plot(ndims = 2)"
   ]
  },
  {
   "cell_type": "markdown",
   "metadata": {},
   "source": [
    "## Tranforming data using geos"
   ]
  },
  {
   "cell_type": "markdown",
   "metadata": {},
   "source": [
    "An additional feature afforded by geos is the ability to later analyze other datasets using the same transformations performed on the original data in the geo. This allows for easy comparison of multiple datasets. Here, we load a built in dataset (the weights dataset) and apply the transform from the geo data to the first element of weights."
   ]
  },
  {
   "cell_type": "code",
   "execution_count": 23,
   "metadata": {},
   "outputs": [
    {
     "data": {
      "text/plain": [
       "array([[  6.48068333e+00,   1.40102780e+00,   1.59104919e+00],\n",
       "       [  2.84769726e+00,   8.96467865e-02,  -8.98378491e-02],\n",
       "       [  1.48038733e+00,  -1.26063561e+00,  -7.48025596e-01],\n",
       "       [  1.05186558e+00,  -1.31629324e+00,  -1.00285459e+00],\n",
       "       [  7.00260162e-01,  -8.85070622e-01,  -9.83820438e-01],\n",
       "       [  5.33612728e-01,  -7.32676804e-01,  -5.91460764e-01],\n",
       "       [  2.62964189e-01,  -6.85500383e-01,  -6.77563190e-01],\n",
       "       [  1.59012482e-01,  -6.71859443e-01,  -7.72416592e-01],\n",
       "       [ -8.59968290e-02,  -6.79191232e-01,  -8.61991227e-01],\n",
       "       [  1.36606023e-02,  -7.69169748e-01,  -1.20105219e+00],\n",
       "       [  4.61160243e-01,  -1.01595330e+00,  -1.14419591e+00],\n",
       "       [  6.45726144e-01,  -6.87333822e-01,  -8.25198054e-01],\n",
       "       [  5.96288681e-01,  -6.04023159e-01,  -4.66835350e-01],\n",
       "       [  5.54403141e-02,  -3.93152535e-01,  -2.82153070e-01],\n",
       "       [ -8.27722907e-01,  -5.17250299e-01,  -3.39220464e-01],\n",
       "       [ -7.25380301e-01,  -2.73191214e-01,  -2.00195789e-01],\n",
       "       [ -7.50808179e-01,  -5.85806072e-02,  -2.81929702e-01],\n",
       "       [ -8.69429290e-01,   6.10070229e-02,  -3.67961884e-01],\n",
       "       [ -8.13441753e-01,   5.14182687e-01,  -2.79209942e-01],\n",
       "       [ -2.72257447e-01,   4.19601738e-01,  -2.23889962e-01],\n",
       "       [ -4.84546274e-01,   7.29141980e-02,  -2.76174545e-01],\n",
       "       [ -4.57965016e-01,   1.91881597e-01,  -6.75125182e-01],\n",
       "       [ -6.26211941e-01,   2.71158904e-01,  -5.89033961e-01],\n",
       "       [ -4.55200195e-01,   5.93539238e-01,  -4.37273771e-01],\n",
       "       [ -2.66376659e-02,   6.75093770e-01,  -3.05238247e-01],\n",
       "       [  3.14011395e-01,   9.04311836e-02,   4.89255607e-01],\n",
       "       [  4.08228129e-01,  -1.10560581e-01,   8.54316354e-01],\n",
       "       [  3.59489322e-01,  -3.63832831e-01,   9.11601424e-01],\n",
       "       [  3.37807566e-01,  -3.17607313e-01,   6.21008635e-01],\n",
       "       [ -4.62226532e-02,  -6.81912661e-01,   3.93312633e-01],\n",
       "       [ -3.73832822e-01,  -2.90488005e-01,   9.49914604e-02],\n",
       "       [ -3.85198712e-01,  -7.37502128e-02,   1.98859155e-01],\n",
       "       [ -3.20899874e-01,   2.47382835e-01,   7.74493635e-01],\n",
       "       [  9.47359949e-02,   7.76248455e-01,   1.30450583e+00],\n",
       "       [ -2.57434964e-01,   8.73281956e-01,   1.31769419e+00],\n",
       "       [ -2.59528160e-01,   9.94774818e-01,   1.28265524e+00],\n",
       "       [ -9.79541957e-01,   6.44954026e-01,   8.00743341e-01],\n",
       "       [ -1.05293560e+00,   6.84527993e-01,   6.41841054e-01],\n",
       "       [ -5.91832519e-01,   7.97011852e-01,   4.36733186e-01],\n",
       "       [  7.48740584e-02,   5.12251854e-01,   4.38027501e-01],\n",
       "       [  6.28305137e-01,   4.13634688e-01,   7.55772114e-01],\n",
       "       [  8.04419041e-01,   3.13902259e-01,   6.91895723e-01],\n",
       "       [  5.23739219e-01,   1.09349325e-01,  -1.66646108e-01],\n",
       "       [ -6.45753667e-02,   3.85042876e-01,   1.08267784e-01],\n",
       "       [ -9.92187500e-01,   7.84400105e-01,   4.23350751e-01],\n",
       "       [ -1.44254172e+00,   4.18620557e-01,   8.47659230e-01],\n",
       "       [ -1.62236118e+00,   7.94114619e-02,   7.98215866e-01],\n",
       "       [ -9.53768313e-01,  -4.35492769e-02,   3.97754014e-01],\n",
       "       [ -9.97605681e-01,   4.88691032e-01,   3.05477619e-01],\n",
       "       [ -1.31089687e+00,   7.13895559e-01,   4.10623923e-02],\n",
       "       [ -1.27830386e+00,   9.38231945e-01,  -8.07454810e-02],\n",
       "       [ -1.40977585e+00,   1.33047152e+00,  -6.24482155e-01],\n",
       "       [ -1.03185487e+00,   1.41609931e+00,  -1.03990722e+00],\n",
       "       [ -8.78583789e-01,   1.16289043e+00,  -1.15888155e+00],\n",
       "       [ -3.43337595e-01,   2.81674922e-01,  -1.10998881e+00],\n",
       "       [  2.34757423e-01,  -4.43583667e-01,  -1.23824668e+00],\n",
       "       [ -3.14504728e-02,  -4.29697871e-01,  -9.45452213e-01],\n",
       "       [ -1.71515346e-03,  -4.43991393e-01,  -9.56586719e-01],\n",
       "       [  6.49498045e-01,  -3.25404584e-01,  -7.20524848e-01],\n",
       "       [  2.47313678e-01,  -6.11987531e-01,  -6.10560000e-01],\n",
       "       [  1.81122512e-01,  -2.55537033e-01,  -4.28130180e-01],\n",
       "       [ -9.04752910e-02,   3.48279297e-01,  -9.55907255e-02],\n",
       "       [ -3.65350068e-01,   6.71271920e-01,  -1.31338209e-01],\n",
       "       [ -3.39900255e-01,   1.21020603e+00,   5.24434447e-03],\n",
       "       [ -1.36576325e-01,   1.29852724e+00,   2.47447997e-01],\n",
       "       [  2.31686354e-01,   1.06916225e+00,   5.87755084e-01],\n",
       "       [  8.21656048e-01,   1.08368909e+00,   8.14966857e-01],\n",
       "       [  7.59287059e-01,   1.06666470e+00,   7.52962172e-01],\n",
       "       [  6.38319850e-01,   1.21096754e+00,   3.19579273e-01],\n",
       "       [  1.12933636e-01,   1.20565534e+00,  -6.45918176e-02],\n",
       "       [ -6.27067268e-01,   5.30727983e-01,  -2.18220517e-01],\n",
       "       [ -5.68462491e-01,   4.56070602e-01,  -4.63732108e-02],\n",
       "       [ -1.25102371e-01,  -3.49123999e-02,   1.95165172e-01],\n",
       "       [ -3.15457046e-01,  -6.42875880e-02,   2.79039949e-01],\n",
       "       [ -1.11997060e-01,   2.67017335e-01,   3.91929716e-01],\n",
       "       [ -1.52746588e-01,  -4.96278852e-02,   1.30434319e-01],\n",
       "       [ -2.69199967e-01,  -6.99158907e-01,   2.94751227e-01],\n",
       "       [ -1.44055396e-01,  -7.95733929e-01,   1.86789051e-01],\n",
       "       [  3.07338655e-01,  -8.44182611e-01,   3.88356566e-01],\n",
       "       [  1.37215734e-01,  -7.28589833e-01,   4.57513452e-01],\n",
       "       [ -2.50323892e-01,  -2.94914395e-01,   7.64540553e-01],\n",
       "       [ -6.96031094e-01,   3.35930884e-01,   8.03476930e-01],\n",
       "       [ -9.31768656e-01,   6.95956111e-01,   8.58997166e-01],\n",
       "       [ -6.10385001e-01,   5.76707661e-01,   1.08426332e+00],\n",
       "       [  9.58514512e-02,   3.49312603e-01,   4.36958075e-01],\n",
       "       [  3.45140874e-01,   2.10239828e-01,  -2.55178094e-01],\n",
       "       [  8.40518922e-02,   3.19823325e-01,  -4.63829517e-01],\n",
       "       [ -2.46189237e-02,   1.60178304e-01,  -4.78530437e-01],\n",
       "       [  1.00524575e-01,   4.30509821e-02,   1.67400092e-01],\n",
       "       [  3.40059340e-01,   2.46935412e-02,   4.85307992e-01],\n",
       "       [  5.55875063e-01,  -6.28817141e-01,   5.61032295e-01],\n",
       "       [  5.83406031e-01,  -6.69968963e-01,   3.94424558e-01],\n",
       "       [  1.24896228e+00,  -5.30033708e-01,   5.00674486e-01],\n",
       "       [  1.87820292e+00,  -7.18587518e-01,   4.86547649e-02],\n",
       "       [  1.57161593e+00,  -1.36480093e+00,   7.45350122e-03],\n",
       "       [  3.89554381e-01,  -1.86364853e+00,  -1.45418465e-01],\n",
       "       [  1.41485155e-01,  -1.65893960e+00,  -3.43051791e-01],\n",
       "       [  1.59627229e-01,  -1.67468452e+00,  -7.63025880e-01],\n",
       "       [  5.46737760e-02,  -1.46522355e+00,  -8.11674953e-01],\n",
       "       [ -7.15651274e-01,  -1.22775078e+00,  -7.90950894e-01],\n",
       "       [ -8.01823974e-01,  -1.11698687e+00,  -5.18550038e-01],\n",
       "       [ -1.66636777e+00,  -1.31535554e+00,  -8.50118756e-01],\n",
       "       [ -7.64572740e-01,  -9.81304526e-01,  -5.92304230e-01],\n",
       "       [ -8.22993815e-02,  -1.30085874e+00,  -2.62784719e-01],\n",
       "       [  6.36968017e-01,  -1.48347247e+00,   2.51940578e-01],\n",
       "       [  6.52537823e-01,  -1.08224416e+00,   1.40766725e-02],\n",
       "       [ -7.04830885e-03,  -8.14321280e-01,  -7.34278202e-01],\n",
       "       [  3.93535733e-01,   1.28640383e-01,  -1.40165329e-01],\n",
       "       [  1.29929692e-01,  -6.14280626e-02,   2.45004490e-01],\n",
       "       [  6.65806413e-01,   2.99981952e-01,   4.53444421e-01],\n",
       "       [  8.24373066e-01,   3.67930055e-01,   8.54466781e-02],\n",
       "       [  6.66656733e-01,   1.54478997e-01,  -1.22605078e-01],\n",
       "       [  1.16133898e-01,  -3.79253328e-01,  -2.04945132e-01],\n",
       "       [ -8.68867487e-02,  -5.73443890e-01,   1.14526659e-01],\n",
       "       [ -9.09736753e-01,  -1.01501405e+00,  -9.48397294e-02],\n",
       "       [ -1.18343008e+00,  -1.53291416e+00,  -5.79364538e-01],\n",
       "       [ -1.13960302e+00,  -1.57849431e+00,  -7.80183434e-01],\n",
       "       [ -7.63706923e-01,  -1.25942957e+00,  -5.86983621e-01],\n",
       "       [ -7.61386573e-01,  -9.85483170e-01,  -4.97549415e-01],\n",
       "       [ -7.54958868e-01,  -4.94860470e-01,  -1.76108420e-01],\n",
       "       [ -5.76683283e-01,  -2.25701645e-01,  -2.52976954e-01],\n",
       "       [ -5.14725089e-01,  -6.09241307e-01,   3.29423428e-01],\n",
       "       [ -9.37028468e-01,  -6.48033142e-01,   4.19992894e-01],\n",
       "       [ -1.26283050e+00,  -5.67152560e-01,   5.95318973e-01],\n",
       "       [ -1.01291919e+00,  -4.64583665e-01,   9.57023144e-01],\n",
       "       [ -6.05618715e-01,  -6.21947646e-01,   1.11056280e+00],\n",
       "       [ -1.05419703e-01,  -1.77792877e-01,   7.86477268e-01],\n",
       "       [  7.15930343e-01,   5.32749653e-01,   6.92125320e-01],\n",
       "       [  1.03238380e+00,   7.02784240e-01,   8.73578012e-01],\n",
       "       [  9.74892139e-01,   4.33456242e-01,   3.85131836e-01],\n",
       "       [  1.10280704e+00,   1.91799067e-02,   8.36415738e-02],\n",
       "       [  1.14833128e+00,   3.52981724e-02,   5.63899241e-02],\n",
       "       [  8.62747550e-01,   4.34302181e-01,   4.47850704e-01],\n",
       "       [  8.80122364e-01,   4.99840260e-01,   1.52385324e-01],\n",
       "       [  6.24432206e-01,   5.58641590e-02,   2.85095513e-01],\n",
       "       [  3.27668130e-01,  -2.44081795e-01,   2.55846083e-01],\n",
       "       [  2.20423862e-02,  -1.55613720e-02,  -2.63416231e-01],\n",
       "       [ -6.43164396e-01,   4.55950797e-01,  -1.33964419e-01],\n",
       "       [ -7.82096982e-01,   6.75208569e-01,   7.46842027e-02],\n",
       "       [ -4.38874751e-01,   6.76207542e-01,  -3.36182117e-01],\n",
       "       [  3.00504357e-01,   4.88394588e-01,  -3.08326304e-01],\n",
       "       [  5.64695716e-01,   6.78808868e-01,  -4.47846614e-02],\n",
       "       [  5.41881442e-01,   6.24235809e-01,   2.62936503e-02],\n",
       "       [  9.34160709e-01,   5.89420557e-01,   4.11571085e-01],\n",
       "       [  7.30081499e-01,   4.65198606e-02,   4.84131157e-01],\n",
       "       [  4.92935538e-01,  -1.06792256e-01,   6.41155064e-01],\n",
       "       [  1.84175223e-02,   5.54064512e-01,   4.94035095e-01],\n",
       "       [ -3.39140862e-01,   8.44762981e-01,   2.56204933e-01],\n",
       "       [ -8.34428608e-01,   1.24082685e+00,   2.28606120e-01],\n",
       "       [ -8.05606067e-01,   1.75233233e+00,  -1.26073569e-01],\n",
       "       [ -8.57905507e-01,   1.99534202e+00,  -3.35574269e-01],\n",
       "       [ -3.73226702e-02,   2.64192986e+00,  -3.91072184e-01],\n",
       "       [  6.26294732e-01,   2.55777407e+00,  -2.92268932e-01],\n",
       "       [  1.34194005e+00,   2.50710773e+00,  -3.57273519e-02],\n",
       "       [  1.14475048e+00,   2.22591066e+00,  -9.66765136e-02],\n",
       "       [  9.71466959e-01,   1.33322144e+00,  -1.33742318e-01],\n",
       "       [  8.58146846e-01,   9.25510049e-01,  -1.42360032e-01],\n",
       "       [  9.28969383e-01,   4.46160853e-01,   2.67914802e-01],\n",
       "       [  1.11694491e+00,   4.05931920e-02,   3.29414189e-01],\n",
       "       [  9.41878974e-01,  -1.94250830e-02,   4.17186975e-01],\n",
       "       [  3.30007732e-01,   2.41802663e-01,   1.68311819e-01],\n",
       "       [  2.45548561e-01,   4.69273031e-01,   1.80112034e-01],\n",
       "       [  7.59529173e-02,   3.83268178e-01,  -3.17236781e-02],\n",
       "       [  1.06332041e-01,   3.94317210e-01,   3.00615042e-01],\n",
       "       [  3.17017287e-01,   6.13832586e-02,   7.73181736e-01],\n",
       "       [ -2.24312246e-01,  -4.89314735e-01,   3.66277277e-01],\n",
       "       [ -6.85877323e-01,  -4.47156668e-01,   3.15169841e-02],\n",
       "       [ -7.11309433e-01,  -3.09626907e-01,   2.60626018e-01],\n",
       "       [ -6.03719592e-01,  -8.57571244e-01,   6.44559979e-01],\n",
       "       [ -5.74327111e-01,  -1.24343073e+00,   4.92178202e-01],\n",
       "       [ -5.53604066e-01,  -1.54453516e+00,   5.87301075e-01],\n",
       "       [ -3.07637244e-01,  -1.82301772e+00,   5.64168930e-01],\n",
       "       [ -5.61650515e-01,  -1.76584005e+00,   4.29870486e-01],\n",
       "       [ -1.19034100e+00,  -1.21857822e+00,  -1.28016710e-01],\n",
       "       [ -1.60307932e+00,  -6.74846888e-01,  -8.65665302e-02],\n",
       "       [ -1.85073721e+00,  -2.03843921e-01,   4.59080100e-01],\n",
       "       [ -1.58875799e+00,   5.84234476e-01,   7.22264409e-01],\n",
       "       [ -1.08207655e+00,   1.13202667e+00,   5.69469213e-01],\n",
       "       [ -3.06285053e-01,   1.34395337e+00,   4.51446950e-01],\n",
       "       [ -2.16815770e-02,   1.53394938e+00,   6.78537011e-01],\n",
       "       [  2.66626656e-01,   1.49366307e+00,   8.62444520e-01],\n",
       "       [  1.82012141e-01,   6.96636736e-01,   8.72688055e-01],\n",
       "       [  9.07398835e-02,   3.40618253e-01,   8.37183595e-01],\n",
       "       [  1.12095907e-01,  -2.81616688e-01,   1.30563378e+00],\n",
       "       [ -8.80778730e-02,  -8.88124049e-01,   1.14439332e+00],\n",
       "       [ -6.09894216e-01,  -9.90159929e-01,   6.83614373e-01],\n",
       "       [ -9.00885820e-01,  -7.61348426e-01,   7.29101181e-01],\n",
       "       [ -7.52227485e-01,  -3.85229319e-01,   7.19217300e-01],\n",
       "       [ -1.06497180e+00,  -2.92468220e-01,   9.96166825e-01],\n",
       "       [ -8.83121789e-01,  -4.75188643e-02,   1.07513404e+00],\n",
       "       [ -1.91193908e-01,  -3.39246392e-01,   9.04014468e-01],\n",
       "       [  2.17492938e-01,  -1.61177731e+00,   7.58353055e-01],\n",
       "       [  1.48772866e-01,  -1.95532167e+00,   5.90028390e-02],\n",
       "       [ -4.04929519e-01,  -1.66217804e+00,  -3.59719485e-01],\n",
       "       [ -2.92353034e-01,  -1.25603151e+00,  -5.43432832e-01],\n",
       "       [ -1.27058774e-02,  -8.17767918e-01,  -3.09557557e-01],\n",
       "       [  3.52500141e-01,   2.65987039e-01,  -3.78019392e-01],\n",
       "       [  6.06592000e-01,   9.94113207e-01,  -5.86134672e-01],\n",
       "       [  8.37787509e-01,   1.05723524e+00,  -6.94348454e-01],\n",
       "       [  8.39118302e-01,   4.65183765e-01,  -9.44697857e-01],\n",
       "       [  5.22499502e-01,   3.58494401e-01,  -8.86097789e-01],\n",
       "       [  4.32101458e-01,   6.04403555e-01,  -1.55573988e+00],\n",
       "       [  5.50333738e-01,   9.40762162e-01,  -1.67463076e+00],\n",
       "       [  6.28153205e-01,   1.48961365e+00,  -1.29275215e+00],\n",
       "       [  6.08034968e-01,   1.68952751e+00,  -9.78234589e-01],\n",
       "       [  1.10214305e+00,   1.56037307e+00,  -9.67353106e-01],\n",
       "       [  1.28974056e+00,   1.74907827e+00,  -5.68708301e-01],\n",
       "       [  1.28895712e+00,   2.06664824e+00,  -6.51351452e-01],\n",
       "       [  9.78401303e-01,   1.87221813e+00,  -1.24165523e+00],\n",
       "       [  1.03481460e+00,   1.61859488e+00,  -1.32846522e+00],\n",
       "       [  1.14612603e+00,   7.66526639e-01,  -1.09200168e+00],\n",
       "       [  1.12959290e+00,   4.63292748e-01,  -1.55702257e+00],\n",
       "       [  7.08658099e-01,   3.67199302e-01,  -1.56609762e+00],\n",
       "       [  4.71144676e-01,  -4.57147285e-02,  -1.69483137e+00],\n",
       "       [  1.04604602e+00,  -4.86552715e-01,  -1.52754724e+00],\n",
       "       [  1.17667246e+00,  -8.92503321e-01,  -1.01440978e+00],\n",
       "       [  1.13902187e+00,  -9.59270418e-01,  -4.25697565e-01],\n",
       "       [  9.18699026e-01,  -8.11868131e-01,  -1.59728080e-01],\n",
       "       [  2.55888760e-01,  -6.29119754e-01,  -2.12985739e-01],\n",
       "       [ -6.82038069e-01,  -4.49244261e-01,  -4.73399580e-01],\n",
       "       [ -7.05347419e-01,  -6.06337190e-01,  -3.68500292e-01],\n",
       "       [ -2.92294502e-01,  -9.14512694e-01,  -2.88921237e-01],\n",
       "       [  1.23018652e-01,  -1.02220213e+00,  -2.29697928e-01],\n",
       "       [  5.44525385e-01,  -1.18221331e+00,   1.10349074e-01],\n",
       "       [  6.29655659e-01,  -1.16088557e+00,   2.43636668e-01],\n",
       "       [  4.18388367e-01,  -1.17965627e+00,  -4.61843982e-03],\n",
       "       [  5.77486277e-01,  -9.03829813e-01,   2.32971311e-01],\n",
       "       [  5.71628690e-01,  -1.24566841e+00,   7.83164799e-02],\n",
       "       [  4.49738294e-01,  -8.43675494e-01,   7.27565736e-02],\n",
       "       [  4.80069578e-01,  -4.19147730e-01,   1.75307125e-01],\n",
       "       [  4.81668293e-01,  -4.73983496e-01,  -1.22439533e-01],\n",
       "       [  7.81803057e-02,  -6.65858448e-01,   3.28792393e-01],\n",
       "       [ -4.93454576e-01,  -7.58456349e-01,   4.27571535e-01],\n",
       "       [ -8.68472934e-01,  -7.69298196e-01,   5.81564605e-01],\n",
       "       [ -1.36264503e+00,  -1.45334709e+00,   7.65565038e-01],\n",
       "       [ -1.45058680e+00,  -1.62760782e+00,   9.75053430e-01],\n",
       "       [ -1.69118392e+00,  -1.58908176e+00,   1.32562900e+00],\n",
       "       [ -1.86663496e+00,  -1.26140440e+00,   1.33556426e+00],\n",
       "       [ -1.81713891e+00,  -9.37877774e-01,   8.69404733e-01],\n",
       "       [ -1.60181952e+00,  -6.54703259e-01,   1.00857592e+00],\n",
       "       [ -1.36884892e+00,  -6.61543250e-01,   9.84827638e-01],\n",
       "       [ -7.15970397e-01,  -7.28104830e-01,   9.07022119e-01],\n",
       "       [ -1.18018538e-02,  -5.42981863e-01,   9.03824389e-01],\n",
       "       [ -2.77161002e-01,  -2.49508381e-01,   5.81453562e-01],\n",
       "       [ -2.72637904e-01,  -2.86047935e-01,  -3.11496984e-02],\n",
       "       [ -2.83637553e-01,  -3.58546197e-01,  -2.30705872e-01],\n",
       "       [ -9.67230201e-02,  -2.56422088e-02,  -4.53726828e-01],\n",
       "       [ -7.29476511e-02,  -3.53191406e-01,  -4.47599173e-01],\n",
       "       [ -6.35612488e-01,  -1.18045855e+00,  -5.32413304e-01],\n",
       "       [ -1.04571736e+00,  -1.32958877e+00,  -9.09455717e-01],\n",
       "       [ -1.82806849e+00,  -8.57650399e-01,  -7.64583290e-01],\n",
       "       [ -2.21909142e+00,   1.80048212e-01,  -8.22583020e-01],\n",
       "       [ -1.95706820e+00,   9.66561913e-01,  -6.66438997e-01],\n",
       "       [ -1.28730488e+00,   1.07249236e+00,  -8.90107155e-01],\n",
       "       [ -9.56865311e-01,   1.10183716e+00,  -9.62683201e-01],\n",
       "       [ -1.66715935e-01,   9.07209218e-01,  -7.76407361e-01],\n",
       "       [  8.20970908e-02,   1.01900780e+00,  -1.45736682e+00],\n",
       "       [ -1.74157187e-01,   1.73459291e+00,  -1.22214293e+00],\n",
       "       [  9.56724957e-02,   2.24297786e+00,  -8.78351092e-01],\n",
       "       [  8.30847263e-01,   2.08005667e+00,  -1.44774437e-01],\n",
       "       [  1.29286945e+00,   1.62340450e+00,   9.35893834e-01],\n",
       "       [  1.24581289e+00,   1.32108796e+00,   1.68079770e+00],\n",
       "       [  6.96104169e-01,   9.11826849e-01,   1.45715952e+00],\n",
       "       [  1.39792889e-01,   1.02450418e+00,   1.18410659e+00],\n",
       "       [ -1.61758333e-01,   9.55378652e-01,   2.77985394e-01],\n",
       "       [ -3.66881162e-01,   1.25830865e+00,  -1.21512562e-01],\n",
       "       [ -1.09658457e-01,   1.56917620e+00,   2.95407981e-01],\n",
       "       [  2.20398664e-01,   1.57354236e+00,   1.01876760e+00],\n",
       "       [  8.36867750e-01,   1.22961700e+00,   9.82653081e-01],\n",
       "       [  7.81354547e-01,   6.71013355e-01,   9.90339994e-01],\n",
       "       [  7.90406585e-01,   7.71780908e-01,   1.13845444e+00],\n",
       "       [  2.36158147e-01,   9.70106006e-01,   9.16065812e-01],\n",
       "       [  4.60892797e-01,   5.96212149e-01,   5.86056709e-01],\n",
       "       [  5.93203843e-01,   3.94905508e-01,   7.26869822e-01],\n",
       "       [  4.08327043e-01,   5.14464080e-03,   7.30805099e-01],\n",
       "       [ -1.06326491e-01,  -2.76815355e-01,   8.46392155e-01],\n",
       "       [ -2.23737955e-01,  -3.08271110e-01,   8.21581602e-01],\n",
       "       [ -5.53723812e-01,  -6.55406058e-01,   5.20053267e-01],\n",
       "       [ -8.50142241e-01,  -4.53993917e-01,   1.40701458e-01],\n",
       "       [ -6.58303261e-01,  -6.13913178e-01,  -3.74463558e-01],\n",
       "       [ -9.56008673e-01,  -4.12290931e-01,  -1.11956215e+00],\n",
       "       [ -1.10905266e+00,  -3.76836866e-01,  -1.09843683e+00],\n",
       "       [ -1.10825992e+00,  -2.98516303e-01,  -1.22928536e+00],\n",
       "       [ -1.39962912e+00,  -3.20640504e-01,  -1.28509331e+00],\n",
       "       [ -1.63314819e+00,  -2.43372470e-01,  -8.19682896e-01],\n",
       "       [ -2.48930550e+00,  -4.30373013e-01,  -6.88906908e-01],\n",
       "       [ -2.62310672e+00,  -5.67857146e-01,  -4.15753335e-01],\n",
       "       [ -2.76061821e+00,  -1.20964833e-01,  -5.56942642e-01],\n",
       "       [ -2.54169512e+00,   8.74776244e-01,  -5.15308082e-01],\n",
       "       [ -1.84877408e+00,   1.73753023e+00,  -4.77192044e-01],\n",
       "       [ -1.11677659e+00,   1.91107047e+00,  -4.44649160e-01],\n",
       "       [ -2.30329037e-01,   1.56856525e+00,  -7.75516093e-01],\n",
       "       [  9.98966455e-01,   1.23570526e+00,  -5.63886523e-01],\n",
       "       [  2.47406554e+00,   4.20292318e-01,  -6.31560028e-01],\n",
       "       [  3.06555510e+00,  -5.01860201e-01,  -1.44320473e-01],\n",
       "       [  3.35702229e+00,  -1.69831383e+00,   2.25072637e-01],\n",
       "       [  4.42780828e+00,  -2.35184717e+00,   1.35809302e-01],\n",
       "       [  4.33120775e+00,  -2.74771190e+00,  -1.33640260e-01],\n",
       "       [  4.11861753e+00,  -2.49715066e+00,  -3.46085578e-01],\n",
       "       [  3.29874468e+00,  -2.58847117e+00,  -8.35863709e-01]], dtype=float32)"
      ]
     },
     "execution_count": 23,
     "metadata": {},
     "output_type": "execute_result"
    }
   ],
   "source": [
    "weights = hyp.load('weights_avg')\n",
    "geo.transform(weights[0])"
   ]
  },
  {
   "cell_type": "markdown",
   "metadata": {},
   "source": [
    "## Saving geos"
   ]
  },
  {
   "cell_type": "markdown",
   "metadata": {},
   "source": [
    "You can also easily save a geo using geo.save. The geo will save as a 'geo' file, which is a dictionary containing the elements of a data geometry object saved in the hd5 format using deepdish.\n",
    "\n",
    "To specify the compression type, pass a string to the compression argument, as below.  See the deepdish documentation for the full list of compression options: http://deepdish.readthedocs.io/en/latest/api_io.html#deepdish.io.save"
   ]
  },
  {
   "cell_type": "code",
   "execution_count": 50,
   "metadata": {
    "collapsed": true
   },
   "outputs": [],
   "source": [
    "# geo.save('MyGeoFile')\n",
    "# geo.save('MyGeoFile', compression = 'blosc')"
   ]
  }
 ],
 "metadata": {
  "kernelspec": {
   "display_name": "Python 3",
   "language": "python",
   "name": "python3"
  },
  "language_info": {
   "codemirror_mode": {
    "name": "ipython",
    "version": 3
   },
   "file_extension": ".py",
   "mimetype": "text/x-python",
   "name": "python",
   "nbconvert_exporter": "python",
   "pygments_lexer": "ipython3",
   "version": "3.6.1"
  }
 },
 "nbformat": 4,
 "nbformat_minor": 2
}
