{
 "cells": [
  {
   "cell_type": "code",
   "execution_count": 1,
   "metadata": {},
   "outputs": [],
   "source": [
    "import hypertools as hyp"
   ]
  },
  {
   "cell_type": "code",
   "execution_count": 2,
   "metadata": {},
   "outputs": [],
   "source": [
    "weights = hyp.load('weights_avg')"
   ]
  },
  {
   "cell_type": "code",
   "execution_count": 30,
   "metadata": {},
   "outputs": [
    {
     "name": "stdout",
     "output_type": "stream",
     "text": [
      "Length is: 2\n",
      "Item type: <class 'list'>\n",
      "\n",
      "Each item contains a <class 'numpy.ndarray'> of <class 'numpy.ndarray'>s containing <class 'numpy.float32'>s\n"
     ]
    },
    {
     "data": {
      "text/plain": [
       "numpy.float32"
      ]
     },
     "execution_count": 30,
     "metadata": {},
     "output_type": "execute_result"
    }
   ],
   "source": [
    "print(\"Length is: \" + str(len(weights)))\n",
    "print(\"Item type: \" + str(type(weights)))\n",
    "print()\n",
    "print(\"Each item contains a \" + str(type(weights[0])) + ' of '+ str(type(weights[0][0]))+'s'+' containing '+ str(type(weights[0][0][0]))+'s')\n",
    "type(weights[0][0][0])"
   ]
  },
  {
   "cell_type": "markdown",
   "metadata": {},
   "source": [
    "If set to ‘across’, the columns of the input data will be z-scored across lists (default). That is, the z-scores will be computed with with repect to column n across all arrays passed in the list. If set to ‘within’, the columns will be z-scored within each list that is passed. If set to ‘row’, each row of the input data will be z-scored. If set to False, the input data will be returned with no z-scoring."
   ]
  },
  {
   "cell_type": "code",
   "execution_count": 6,
   "metadata": {},
   "outputs": [
    {
     "data": {
      "text/plain": [
       "[array([[ 6.46877527,  0.04415582,  2.46139169, ...,  3.1587286 ,\n",
       "          5.03870821,  1.15433145],\n",
       "        [ 3.298666  ,  0.34712252,  0.55772746, ..., -0.90643823,\n",
       "          2.45424342, -0.6624018 ],\n",
       "        [-0.08597342,  0.33172083,  0.33688417, ..., -0.91683173,\n",
       "          1.40573359, -0.43677449],\n",
       "        ..., \n",
       "        [-1.86581433, -0.04198547,  3.06311655, ...,  2.97605228,\n",
       "         -0.01176681,  4.2177    ],\n",
       "        [-1.09020317, -1.03223801,  3.21619081, ...,  1.80767441,\n",
       "         -0.47513825,  5.51226616],\n",
       "        [-1.37564707, -0.3927514 ,  2.98111844, ...,  0.25864044,\n",
       "         -0.99671048,  5.56884575]], dtype=float32),\n",
       " array([[ 4.59447861, -0.34858733,  1.80348003, ...,  0.38786319,\n",
       "          4.09196997,  1.77377677],\n",
       "        [ 2.43848038,  0.37334016,  0.08044791, ...,  0.03241993,\n",
       "          1.83599603, -0.36308572],\n",
       "        [ 1.24563742,  1.65509987,  0.08995987, ..., -1.67206371,\n",
       "          1.21683633, -0.65195262],\n",
       "        ..., \n",
       "        [-0.8509773 , -0.52303195,  2.32340908, ...,  0.19008434,\n",
       "         -0.48608434,  4.8663888 ],\n",
       "        [-0.88720232, -1.35538971,  1.5869391 , ...,  0.76576531,\n",
       "         -1.24696374,  5.01266813],\n",
       "        [-0.34332418, -0.86585832,  1.04245913, ..., -0.81667167,\n",
       "         -0.70749855,  4.6158514 ]], dtype=float32)]"
      ]
     },
     "execution_count": 6,
     "metadata": {},
     "output_type": "execute_result"
    }
   ],
   "source": [
    "hyp.analyze(weights, normalize='within')"
   ]
  },
  {
   "cell_type": "code",
   "execution_count": null,
   "metadata": {},
   "outputs": [],
   "source": []
  }
 ],
 "metadata": {
  "kernelspec": {
   "display_name": "Python 3",
   "language": "python",
   "name": "python3"
  },
  "language_info": {
   "codemirror_mode": {
    "name": "ipython",
    "version": 3
   },
   "file_extension": ".py",
   "mimetype": "text/x-python",
   "name": "python",
   "nbconvert_exporter": "python",
   "pygments_lexer": "ipython3",
   "version": "3.6.1"
  }
 },
 "nbformat": 4,
 "nbformat_minor": 2
}
