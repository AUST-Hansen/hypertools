{
 "cells": [
  {
   "cell_type": "markdown",
   "metadata": {},
   "source": [
    "# DataGeometry Objects (Geos)"
   ]
  },
  {
   "cell_type": "markdown",
   "metadata": {},
   "source": [
    "The DataGeometry object is the hypertools data object class.\n",
    "\n",
    "A DataGeometry object contains the data, figure handles, and transform functions used to create a plot. Note that this class should not be called directly, but is used by the hyp.plot function to create a plot object.\n",
    "\n",
    "In this tutorial we will explore the features of a geo and how it may be used."
   ]
  },
  {
   "cell_type": "markdown",
   "metadata": {},
   "source": [
    "## Import Hypertools"
   ]
  },
  {
   "cell_type": "code",
   "execution_count": 20,
   "metadata": {},
   "outputs": [],
   "source": [
    "import hypertools as hyp"
   ]
  },
  {
   "cell_type": "markdown",
   "metadata": {},
   "source": [
    "## Load your data"
   ]
  },
  {
   "cell_type": "markdown",
   "metadata": {},
   "source": [
    "In this case, we have used one of the sample datasets built into the package."
   ]
  },
  {
   "cell_type": "code",
   "execution_count": 21,
   "metadata": {},
   "outputs": [],
   "source": [
    "mushrooms = hyp.load('mushrooms')"
   ]
  },
  {
   "cell_type": "markdown",
   "metadata": {},
   "source": [
    "We can peek at the first few rows of the dataframe using the pandas feature 'head(n)'"
   ]
  },
  {
   "cell_type": "code",
   "execution_count": 22,
   "metadata": {},
   "outputs": [
    {
     "data": {
      "text/html": [
       "<div>\n",
       "<style>\n",
       "    .dataframe thead tr:only-child th {\n",
       "        text-align: right;\n",
       "    }\n",
       "\n",
       "    .dataframe thead th {\n",
       "        text-align: left;\n",
       "    }\n",
       "\n",
       "    .dataframe tbody tr th {\n",
       "        vertical-align: top;\n",
       "    }\n",
       "</style>\n",
       "<table border=\"1\" class=\"dataframe\">\n",
       "  <thead>\n",
       "    <tr style=\"text-align: right;\">\n",
       "      <th></th>\n",
       "      <th>class</th>\n",
       "      <th>cap-shape</th>\n",
       "      <th>cap-surface</th>\n",
       "      <th>cap-color</th>\n",
       "      <th>bruises</th>\n",
       "      <th>odor</th>\n",
       "      <th>gill-attachment</th>\n",
       "      <th>gill-spacing</th>\n",
       "      <th>gill-size</th>\n",
       "      <th>gill-color</th>\n",
       "      <th>...</th>\n",
       "      <th>stalk-surface-below-ring</th>\n",
       "      <th>stalk-color-above-ring</th>\n",
       "      <th>stalk-color-below-ring</th>\n",
       "      <th>veil-type</th>\n",
       "      <th>veil-color</th>\n",
       "      <th>ring-number</th>\n",
       "      <th>ring-type</th>\n",
       "      <th>spore-print-color</th>\n",
       "      <th>population</th>\n",
       "      <th>habitat</th>\n",
       "    </tr>\n",
       "  </thead>\n",
       "  <tbody>\n",
       "    <tr>\n",
       "      <th>0</th>\n",
       "      <td>p</td>\n",
       "      <td>x</td>\n",
       "      <td>s</td>\n",
       "      <td>n</td>\n",
       "      <td>t</td>\n",
       "      <td>p</td>\n",
       "      <td>f</td>\n",
       "      <td>c</td>\n",
       "      <td>n</td>\n",
       "      <td>k</td>\n",
       "      <td>...</td>\n",
       "      <td>s</td>\n",
       "      <td>w</td>\n",
       "      <td>w</td>\n",
       "      <td>p</td>\n",
       "      <td>w</td>\n",
       "      <td>o</td>\n",
       "      <td>p</td>\n",
       "      <td>k</td>\n",
       "      <td>s</td>\n",
       "      <td>u</td>\n",
       "    </tr>\n",
       "    <tr>\n",
       "      <th>1</th>\n",
       "      <td>e</td>\n",
       "      <td>x</td>\n",
       "      <td>s</td>\n",
       "      <td>y</td>\n",
       "      <td>t</td>\n",
       "      <td>a</td>\n",
       "      <td>f</td>\n",
       "      <td>c</td>\n",
       "      <td>b</td>\n",
       "      <td>k</td>\n",
       "      <td>...</td>\n",
       "      <td>s</td>\n",
       "      <td>w</td>\n",
       "      <td>w</td>\n",
       "      <td>p</td>\n",
       "      <td>w</td>\n",
       "      <td>o</td>\n",
       "      <td>p</td>\n",
       "      <td>n</td>\n",
       "      <td>n</td>\n",
       "      <td>g</td>\n",
       "    </tr>\n",
       "    <tr>\n",
       "      <th>2</th>\n",
       "      <td>e</td>\n",
       "      <td>b</td>\n",
       "      <td>s</td>\n",
       "      <td>w</td>\n",
       "      <td>t</td>\n",
       "      <td>l</td>\n",
       "      <td>f</td>\n",
       "      <td>c</td>\n",
       "      <td>b</td>\n",
       "      <td>n</td>\n",
       "      <td>...</td>\n",
       "      <td>s</td>\n",
       "      <td>w</td>\n",
       "      <td>w</td>\n",
       "      <td>p</td>\n",
       "      <td>w</td>\n",
       "      <td>o</td>\n",
       "      <td>p</td>\n",
       "      <td>n</td>\n",
       "      <td>n</td>\n",
       "      <td>m</td>\n",
       "    </tr>\n",
       "    <tr>\n",
       "      <th>3</th>\n",
       "      <td>p</td>\n",
       "      <td>x</td>\n",
       "      <td>y</td>\n",
       "      <td>w</td>\n",
       "      <td>t</td>\n",
       "      <td>p</td>\n",
       "      <td>f</td>\n",
       "      <td>c</td>\n",
       "      <td>n</td>\n",
       "      <td>n</td>\n",
       "      <td>...</td>\n",
       "      <td>s</td>\n",
       "      <td>w</td>\n",
       "      <td>w</td>\n",
       "      <td>p</td>\n",
       "      <td>w</td>\n",
       "      <td>o</td>\n",
       "      <td>p</td>\n",
       "      <td>k</td>\n",
       "      <td>s</td>\n",
       "      <td>u</td>\n",
       "    </tr>\n",
       "    <tr>\n",
       "      <th>4</th>\n",
       "      <td>e</td>\n",
       "      <td>x</td>\n",
       "      <td>s</td>\n",
       "      <td>g</td>\n",
       "      <td>f</td>\n",
       "      <td>n</td>\n",
       "      <td>f</td>\n",
       "      <td>w</td>\n",
       "      <td>b</td>\n",
       "      <td>k</td>\n",
       "      <td>...</td>\n",
       "      <td>s</td>\n",
       "      <td>w</td>\n",
       "      <td>w</td>\n",
       "      <td>p</td>\n",
       "      <td>w</td>\n",
       "      <td>o</td>\n",
       "      <td>e</td>\n",
       "      <td>n</td>\n",
       "      <td>a</td>\n",
       "      <td>g</td>\n",
       "    </tr>\n",
       "  </tbody>\n",
       "</table>\n",
       "<p>5 rows × 23 columns</p>\n",
       "</div>"
      ],
      "text/plain": [
       "  class cap-shape cap-surface cap-color bruises odor gill-attachment  \\\n",
       "0     p         x           s         n       t    p               f   \n",
       "1     e         x           s         y       t    a               f   \n",
       "2     e         b           s         w       t    l               f   \n",
       "3     p         x           y         w       t    p               f   \n",
       "4     e         x           s         g       f    n               f   \n",
       "\n",
       "  gill-spacing gill-size gill-color   ...   stalk-surface-below-ring  \\\n",
       "0            c         n          k   ...                          s   \n",
       "1            c         b          k   ...                          s   \n",
       "2            c         b          n   ...                          s   \n",
       "3            c         n          n   ...                          s   \n",
       "4            w         b          k   ...                          s   \n",
       "\n",
       "  stalk-color-above-ring stalk-color-below-ring veil-type veil-color  \\\n",
       "0                      w                      w         p          w   \n",
       "1                      w                      w         p          w   \n",
       "2                      w                      w         p          w   \n",
       "3                      w                      w         p          w   \n",
       "4                      w                      w         p          w   \n",
       "\n",
       "  ring-number ring-type spore-print-color population habitat  \n",
       "0           o         p                 k          s       u  \n",
       "1           o         p                 n          n       g  \n",
       "2           o         p                 n          n       m  \n",
       "3           o         p                 k          s       u  \n",
       "4           o         e                 n          a       g  \n",
       "\n",
       "[5 rows x 23 columns]"
      ]
     },
     "execution_count": 22,
     "metadata": {},
     "output_type": "execute_result"
    }
   ],
   "source": [
    "mushrooms.head(n=5)"
   ]
  },
  {
   "cell_type": "markdown",
   "metadata": {},
   "source": [
    "## Plot data"
   ]
  },
  {
   "cell_type": "markdown",
   "metadata": {},
   "source": [
    "First, we will plot the data, generating a geo."
   ]
  },
  {
   "cell_type": "code",
   "execution_count": 23,
   "metadata": {},
   "outputs": [
    {
     "data": {
      "image/png": "[encoded data removed]",
      "text/plain": [
       "<matplotlib.figure.Figure at 0x1178030f0>"
      ]
     },
     "metadata": {},
     "output_type": "display_data"
    }
   ],
   "source": [
    "geo = hyp.plot(mushrooms)"
   ]
  },
  {
   "cell_type": "markdown",
   "metadata": {},
   "source": [
    "## Exploring the geo"
   ]
  },
  {
   "cell_type": "markdown",
   "metadata": {},
   "source": [
    "### Hypertools Version"
   ]
  },
  {
   "cell_type": "markdown",
   "metadata": {},
   "source": [
    "The version field contains the version number of hypertools that the geo was generated with."
   ]
  },
  {
   "cell_type": "code",
   "execution_count": 24,
   "metadata": {},
   "outputs": [
    {
     "data": {
      "text/plain": [
       "'0.4.0'"
      ]
     },
     "execution_count": 24,
     "metadata": {},
     "output_type": "execute_result"
    }
   ],
   "source": [
    "geo.version"
   ]
  },
  {
   "cell_type": "markdown",
   "metadata": {},
   "source": [
    "### Data and plot"
   ]
  },
  {
   "cell_type": "markdown",
   "metadata": {},
   "source": [
    "The data field contains the raw data and the fig field contains the figure itself"
   ]
  },
  {
   "cell_type": "code",
   "execution_count": 25,
   "metadata": {},
   "outputs": [
    {
     "data": {
      "text/plain": [
       "[array([[0, 1, 0, ..., 0, 1, 0],\n",
       "        [1, 0, 0, ..., 0, 0, 0],\n",
       "        [1, 0, 1, ..., 0, 0, 0],\n",
       "        ..., \n",
       "        [1, 0, 0, ..., 0, 0, 0],\n",
       "        [0, 1, 0, ..., 0, 0, 0],\n",
       "        [1, 0, 0, ..., 0, 0, 0]], dtype=uint8)]"
      ]
     },
     "execution_count": 25,
     "metadata": {},
     "output_type": "execute_result"
    }
   ],
   "source": [
    "geo.data"
   ]
  },
  {
   "cell_type": "code",
   "execution_count": 26,
   "metadata": {},
   "outputs": [
    {
     "data": {
      "image/png": "[encoded data removed]",
      "text/plain": [
       "<matplotlib.figure.Figure at 0x1178030f0>"
      ]
     },
     "execution_count": 26,
     "metadata": {},
     "output_type": "execute_result"
    }
   ],
   "source": [
    "geo.fig"
   ]
  },
  {
   "cell_type": "markdown",
   "metadata": {},
   "source": [
    "### Transformed data and metadata"
   ]
  },
  {
   "cell_type": "markdown",
   "metadata": {},
   "source": [
    "The xform_data field contains the transformed data (in this case, the data was automatically reduced to 3 dimensions for plotting when we called hyp.plot) and the reduce field contains the information about how the reduction was implemented (the model and its parameters)."
   ]
  },
  {
   "cell_type": "code",
   "execution_count": 27,
   "metadata": {},
   "outputs": [
    {
     "data": {
      "text/plain": [
       "[array([[ 0.66282511, -0.50030606,  1.60971357],\n",
       "        [ 1.5395065 , -0.25964717,  1.89064114],\n",
       "        [ 1.69285148, -0.2652148 ,  1.89496073],\n",
       "        ..., \n",
       "        [ 0.68330896, -0.29900591,  0.38257187],\n",
       "        [-1.47676276, -1.45182833, -0.16606786],\n",
       "        [ 0.66276601, -0.3111866 ,  0.60080039]])]"
      ]
     },
     "execution_count": 27,
     "metadata": {},
     "output_type": "execute_result"
    }
   ],
   "source": [
    "geo.xform_data"
   ]
  },
  {
   "cell_type": "code",
   "execution_count": 28,
   "metadata": {},
   "outputs": [
    {
     "data": {
      "text/plain": [
       "{'model': 'IncrementalPCA', 'params': {'n_components': 3}}"
      ]
     },
     "execution_count": 28,
     "metadata": {},
     "output_type": "execute_result"
    }
   ],
   "source": [
    "geo.reduce"
   ]
  },
  {
   "cell_type": "markdown",
   "metadata": {},
   "source": [
    "### Align and normalize metadata"
   ]
  },
  {
   "cell_type": "markdown",
   "metadata": {},
   "source": [
    "The align and normalize fields contain information about the data aligment (model and parameters) and normalization, respectively.\n",
    "\n",
    "In this case the normalization is none and the alignment parameter fields are empty, as no alignment was used."
   ]
  },
  {
   "cell_type": "code",
   "execution_count": 29,
   "metadata": {},
   "outputs": [
    {
     "data": {
      "text/plain": [
       "{'model': None, 'params': {}}"
      ]
     },
     "execution_count": 29,
     "metadata": {},
     "output_type": "execute_result"
    }
   ],
   "source": [
    "geo.align"
   ]
  },
  {
   "cell_type": "code",
   "execution_count": 30,
   "metadata": {},
   "outputs": [],
   "source": [
    "geo.normalize"
   ]
  },
  {
   "cell_type": "markdown",
   "metadata": {},
   "source": [
    "### Plotting axes and animations"
   ]
  },
  {
   "cell_type": "markdown",
   "metadata": {},
   "source": [
    "The ax and line_ani fields hold the plot axes and the animation setting (in this case None) for plotting, respectively."
   ]
  },
  {
   "cell_type": "code",
   "execution_count": 31,
   "metadata": {},
   "outputs": [
    {
     "data": {
      "text/plain": [
       "<matplotlib.axes._subplots.Axes3DSubplot at 0x11679a8d0>"
      ]
     },
     "execution_count": 31,
     "metadata": {},
     "output_type": "execute_result"
    }
   ],
   "source": [
    "geo.ax"
   ]
  },
  {
   "cell_type": "code",
   "execution_count": 32,
   "metadata": {},
   "outputs": [],
   "source": [
    "geo.line_ani"
   ]
  },
  {
   "cell_type": "markdown",
   "metadata": {},
   "source": [
    "## Plotting with geos"
   ]
  },
  {
   "cell_type": "markdown",
   "metadata": {},
   "source": [
    "You can also generate a new plot (a new geo) from data stored in the geo using geo.plot.\n",
    "\n",
    "This plotting feature accepts all of the keyword arguments supported by hypertools.plot.\n",
    "\n",
    "First, let's plot without making any changes."
   ]
  },
  {
   "cell_type": "code",
   "execution_count": 33,
   "metadata": {},
   "outputs": [
    {
     "data": {
      "image/png": "[encoded data removed]",
      "text/plain": [
       "<matplotlib.figure.Figure at 0x1180fc7f0>"
      ]
     },
     "metadata": {},
     "output_type": "display_data"
    },
    {
     "data": {
      "text/plain": [
       "<hypertools.datageometry.DataGeometry at 0x118870470>"
      ]
     },
     "execution_count": 33,
     "metadata": {},
     "output_type": "execute_result"
    }
   ],
   "source": [
    "geo.plot()"
   ]
  },
  {
   "cell_type": "markdown",
   "metadata": {},
   "source": [
    "Now, let's change the plot using some keyword arguments."
   ]
  },
  {
   "cell_type": "code",
   "execution_count": 36,
   "metadata": {},
   "outputs": [
    {
     "data": {
      "image/png": "[encoded data removed]",
      "text/plain": [
       "<matplotlib.figure.Figure at 0x117c60ba8>"
      ]
     },
     "metadata": {},
     "output_type": "display_data"
    },
    {
     "data": {
      "text/plain": [
       "<hypertools.datageometry.DataGeometry at 0x1192fb438>"
      ]
     },
     "execution_count": 36,
     "metadata": {},
     "output_type": "execute_result"
    }
   ],
   "source": [
    "geo.plot(ndims = 2)"
   ]
  },
  {
   "cell_type": "markdown",
   "metadata": {},
   "source": [
    "## Tranforming data using geos"
   ]
  },
  {
   "cell_type": "markdown",
   "metadata": {},
   "source": [
    "An additional feature afforded by geos is the ability to later analyze other datasets using the same transformations performed on the original data in the geo.\n",
    "\n",
    "This allows for easy comparison of multiple datasets.\n",
    "\n",
    "Here, we load a built in dataset (the weights dataset) and apply the transform from the geo data to the first element of weights."
   ]
  },
  {
   "cell_type": "code",
   "execution_count": 45,
   "metadata": {},
   "outputs": [],
   "source": [
    "weights = hyp.load('weights')"
   ]
  },
  {
   "cell_type": "code",
   "execution_count": 46,
   "metadata": {},
   "outputs": [
    {
     "data": {
      "text/plain": [
       "array([[  1.02261314e+01,  -4.45879507e+00,   3.81942225e+00],\n",
       "       [  2.31492662e+00,  -2.88961315e+00,   4.30638170e+00],\n",
       "       [ -1.35657251e+00,  -1.98363090e+00,   3.39639783e+00],\n",
       "       [ -2.00143099e+00,  -1.06062758e+00,   1.76022530e+00],\n",
       "       [ -2.19376028e-01,  -3.10257167e-01,   1.24557889e+00],\n",
       "       [ -1.62174273e+00,   1.19219959e+00,   1.70820904e+00],\n",
       "       [ -3.51259398e+00,   1.04469967e+00,   2.40999174e+00],\n",
       "       [ -6.56649590e+00,   9.45530295e-01,   1.48740828e+00],\n",
       "       [ -6.40598583e+00,   1.66641504e-01,   2.29102731e+00],\n",
       "       [ -6.42893505e+00,   6.72294021e-01,   3.24273729e+00],\n",
       "       [ -5.29658937e+00,   1.52558112e+00,   4.33913422e+00],\n",
       "       [ -5.51353073e+00,   1.75708735e+00,   4.87600708e+00],\n",
       "       [ -3.78208351e+00,   1.54938376e+00,   3.84093046e+00],\n",
       "       [ -2.06615353e+00,  -1.03462374e+00,   2.41351318e+00],\n",
       "       [  1.08894753e+00,  -2.54567051e+00,   1.27036452e+00],\n",
       "       [  2.71206474e+00,  -2.07493734e+00,  -2.73663998e-02],\n",
       "       [ -1.78871691e-01,  -4.90842879e-01,  -7.38614261e-01],\n",
       "       [ -3.32791781e+00,   7.20754743e-01,  -2.32129407e+00],\n",
       "       [ -4.69793463e+00,   1.68004358e+00,  -1.83588719e+00],\n",
       "       [ -1.67137861e+00,   1.04054046e+00,   2.75734663e-02],\n",
       "       [  1.02004409e+00,   4.52729970e-01,   9.62230265e-01],\n",
       "       [  3.15486145e+00,  -4.31893319e-01,   8.16255927e-01],\n",
       "       [  3.20729637e+00,  -1.44799292e+00,   8.06975305e-01],\n",
       "       [  2.34258795e+00,  -1.46425223e+00,   8.85983288e-01],\n",
       "       [  5.11520386e-01,  -3.06700885e-01,   1.73916876e-01],\n",
       "       [  8.19114685e-01,   4.97853458e-02,  -9.11425114e-01],\n",
       "       [  1.91146433e+00,   3.34331006e-01,  -3.05481386e+00],\n",
       "       [  3.37866735e+00,   2.55330354e-01,  -5.50081539e+00],\n",
       "       [  1.34982312e+00,  -1.19059145e-01,  -6.00500393e+00],\n",
       "       [ -1.30847764e+00,   3.30547094e-01,  -5.49288464e+00],\n",
       "       [ -2.95154023e+00,   1.98285115e+00,  -5.38126945e+00],\n",
       "       [ -1.90754855e+00,   1.99606824e+00,  -5.19128418e+00],\n",
       "       [  7.87771523e-01,   1.93005383e+00,  -5.33381844e+00],\n",
       "       [  4.31383514e+00,   1.39532328e+00,  -3.94567943e+00],\n",
       "       [  4.08853960e+00,   8.20674896e-01,  -2.90046358e+00],\n",
       "       [  3.58546734e+00,  -1.27242744e-01,  -3.52999640e+00],\n",
       "       [  1.99956715e+00,   1.00253665e+00,  -3.54358721e+00],\n",
       "       [  1.85064876e+00,   1.30079651e+00,  -4.19050264e+00],\n",
       "       [  3.04535484e+00,   1.41517067e+00,  -3.99565244e+00],\n",
       "       [  5.61460781e+00,   4.66402858e-01,  -4.48917532e+00],\n",
       "       [  5.46591187e+00,  -9.57875967e-01,  -4.16595078e+00],\n",
       "       [  4.71041679e+00,  -2.35851812e+00,  -2.11243677e+00],\n",
       "       [  1.54816043e+00,  -4.24496269e+00,  -4.05167162e-01],\n",
       "       [  5.97476363e-01,  -5.34221268e+00,   5.48897684e-01],\n",
       "       [  2.69940710e+00,  -3.64997864e+00,   1.41527820e+00],\n",
       "       [  4.94091511e+00,  -1.77878010e+00,   6.16816401e-01],\n",
       "       [  1.82489562e+00,   1.08960271e-03,  -1.07654214e+00],\n",
       "       [ -6.20344281e-01,   1.82713294e+00,  -1.22767675e+00],\n",
       "       [ -1.55667377e+00,   2.47408724e+00,  -8.95226181e-01],\n",
       "       [ -1.51806855e+00,   3.05788231e+00,  -2.62216389e-01],\n",
       "       [  7.53151178e-02,   2.75953627e+00,   1.66206107e-01],\n",
       "       [  4.34078068e-01,   2.94510412e+00,   4.76493090e-01],\n",
       "       [  7.43941963e-02,   2.04008007e+00,   6.20327473e-01],\n",
       "       [ -8.16925168e-01,   1.05222487e+00,   4.47462499e-01],\n",
       "       [ -8.74524891e-01,  -1.86250076e-01,   1.61944294e+00],\n",
       "       [ -2.19358563e+00,   2.42507339e-01,   2.51042509e+00],\n",
       "       [ -1.30777645e+00,   5.31848907e-01,   2.97433662e+00],\n",
       "       [ -1.26925361e+00,   5.12290239e-01,   4.44779015e+00],\n",
       "       [ -1.11807692e+00,  -1.73840344e-01,   5.37642145e+00],\n",
       "       [ -1.65018392e+00,   1.01172209e-01,   5.86611557e+00],\n",
       "       [ -6.33180499e-01,  -5.03958464e-01,   5.62167168e+00],\n",
       "       [  2.59121120e-01,  -5.42760372e-01,   4.76748562e+00],\n",
       "       [  1.82700038e+00,  -1.70273185e+00,   4.29403019e+00],\n",
       "       [  8.57725978e-01,  -1.57955980e+00,   3.93047857e+00],\n",
       "       [  3.21936846e-01,   6.44496441e-01,   2.98189783e+00],\n",
       "       [  8.63654315e-01,   1.48279333e+00,   7.18959808e-01],\n",
       "       [  1.72975421e+00,   1.11209154e+00,  -1.91006637e+00],\n",
       "       [  9.97922122e-02,   1.49344552e+00,  -3.63893652e+00],\n",
       "       [  2.97997117e-01,   1.88853896e+00,  -3.30855751e+00],\n",
       "       [ -6.02093101e-01,   2.16445136e+00,  -2.04693031e+00],\n",
       "       [  1.19517036e-01,   1.62584555e+00,  -1.78828311e+00],\n",
       "       [  7.29334354e-03,   7.84901440e-01,  -2.05128288e+00],\n",
       "       [  8.13327312e-01,   1.36606681e+00,  -1.36186731e+00],\n",
       "       [ -2.39624560e-01,   2.41592383e+00,  -1.05347514e-01],\n",
       "       [ -3.55716407e-01,   1.53936124e+00,  -6.90518379e-01],\n",
       "       [ -2.01055431e+00,   1.22368705e+00,  -1.11416149e+00],\n",
       "       [ -1.20891690e+00,   5.63949943e-02,   3.13607991e-01],\n",
       "       [  1.39272523e+00,  -2.12307119e+00,   6.12054110e-01],\n",
       "       [  2.34527659e+00,  -4.38075018e+00,  -7.87069142e-01],\n",
       "       [  3.70062530e-01,  -3.84908772e+00,  -1.24552637e-01],\n",
       "       [ -2.59228301e+00,  -1.99950194e+00,   1.17939377e+00],\n",
       "       [ -2.19899344e+00,   3.41594815e-01,   1.28887105e+00],\n",
       "       [ -2.46839285e-01,  -4.64338601e-01,  -9.34395909e-01],\n",
       "       [  2.46987367e+00,  -6.14975452e-01,  -1.63955402e+00],\n",
       "       [  2.63711977e+00,  -1.05752242e+00,  -1.29817760e+00],\n",
       "       [  1.95567882e+00,  -8.07491660e-01,   4.19980645e-01],\n",
       "       [  9.46545184e-01,   1.12084538e-01,   1.41737568e+00],\n",
       "       [  9.53318417e-01,   1.24145305e+00,   1.60520136e+00],\n",
       "       [  1.29001808e+00,   1.03186393e+00,   5.04162729e-01],\n",
       "       [  1.97945428e+00,   9.08792734e-01,   9.04816389e-03],\n",
       "       [  1.91105318e+00,   6.23939037e-01,  -3.20300698e-01],\n",
       "       [  9.02094126e-01,   1.48544192e+00,  -1.78581536e+00],\n",
       "       [ -9.55760717e-01,   8.00224662e-01,  -2.55552578e+00],\n",
       "       [ -4.87047642e-01,  -1.03268480e+00,  -1.80402648e+00],\n",
       "       [  1.92323959e+00,  -4.35144329e+00,  -2.38708448e+00],\n",
       "       [  1.75480032e+00,  -5.30098534e+00,  -2.30720901e+00],\n",
       "       [  8.79467964e-01,  -4.06252337e+00,  -1.99874997e+00],\n",
       "       [ -9.69074965e-01,  -4.41225052e+00,  -1.06332850e+00],\n",
       "       [ -1.26064610e+00,  -6.01633835e+00,  -5.95978975e-01],\n",
       "       [ -2.24662066e+00,  -5.89241171e+00,  -3.09094369e-01],\n",
       "       [ -3.10262704e+00,  -6.21626520e+00,  -6.53743625e-01],\n",
       "       [ -1.60927165e+00,  -4.51577902e+00,  -5.33100963e-01],\n",
       "       [ -1.01922429e+00,  -3.05308914e+00,  -8.09469223e-01],\n",
       "       [ -6.29094243e-01,  -2.79953146e+00,  -1.97951138e-01],\n",
       "       [ -3.33256650e+00,  -3.73232484e+00,   5.57037830e-01],\n",
       "       [ -5.28990793e+00,  -1.56404006e+00,   5.86571813e-01],\n",
       "       [ -7.21621561e+00,   1.36782312e+00,   1.06425595e+00],\n",
       "       [ -5.19705963e+00,   3.26306152e+00,   1.51913941e+00],\n",
       "       [ -2.26960278e+00,   2.83811283e+00,   4.32922781e-01],\n",
       "       [  4.97458398e-01,   2.92298508e+00,   6.41549587e-01],\n",
       "       [  4.42990929e-01,   3.15456867e+00,   7.75509953e-01],\n",
       "       [  1.40748215e+00,   4.58266830e+00,  -5.43836653e-02],\n",
       "       [  1.09698868e+00,   3.69260192e+00,  -1.05303967e+00],\n",
       "       [  2.68696117e+00,   2.76044035e+00,  -9.77673173e-01],\n",
       "       [  2.05830574e+00,   1.48404098e+00,  -1.64872932e+00],\n",
       "       [ -2.40543991e-01,   1.73758721e+00,  -9.52692628e-01],\n",
       "       [ -4.13548756e+00,  -8.33253980e-01,  -1.64694059e+00],\n",
       "       [ -5.63705873e+00,  -1.66078961e+00,  -2.37045240e+00],\n",
       "       [ -6.08816814e+00,  -1.98161578e+00,  -1.26271188e+00],\n",
       "       [ -3.28954887e+00,  -1.80560195e+00,  -5.00871837e-02],\n",
       "       [ -1.99951935e+00,  -9.51350808e-01,   4.58329737e-01],\n",
       "       [ -3.70012259e+00,  -1.12108409e+00,  -3.43339503e-01],\n",
       "       [ -7.30499363e+00,  -3.05582851e-01,  -1.50203490e+00],\n",
       "       [ -7.62318230e+00,   1.66577482e+00,  -1.07489681e+00],\n",
       "       [ -3.76509547e+00,   1.53322279e+00,  -4.26340044e-01],\n",
       "       [ -7.50657201e-01,   1.40631056e+00,   6.55220747e-02],\n",
       "       [ -1.21509516e+00,   8.99983406e-01,   8.83119345e-01],\n",
       "       [ -2.53079605e+00,   9.99158680e-01,   5.62040746e-01],\n",
       "       [ -2.55997705e+00,   1.34912288e+00,   7.21619368e-01],\n",
       "       [ -2.49874163e+00,   1.71198738e+00,   1.08427596e+00],\n",
       "       [ -6.58486247e-01,   6.32883608e-01,   9.83297765e-01],\n",
       "       [  2.35512793e-01,   1.05476499e+00,   3.06561053e-01],\n",
       "       [  1.37779665e+00,   2.82217312e+00,   4.07430172e-01],\n",
       "       [  2.25887239e-01,   2.51260138e+00,   9.43711102e-01],\n",
       "       [  1.42882538e+00,   5.17516136e-01,   1.46787548e+00],\n",
       "       [  2.61164260e+00,  -1.76446199e+00,   9.77002025e-01],\n",
       "       [  4.30439949e+00,  -4.14070415e+00,   1.50517595e+00],\n",
       "       [  4.17927027e+00,  -3.79173589e+00,   1.52763772e+00],\n",
       "       [  4.69345760e+00,  -2.20574975e+00,   1.60908806e+00],\n",
       "       [  4.85618877e+00,  -1.20725203e+00,   1.66713595e+00],\n",
       "       [  5.73847389e+00,  -5.44399619e-02,   2.26567793e+00],\n",
       "       [  8.20595264e+00,   1.30374217e+00,   2.00338578e+00],\n",
       "       [  7.73465729e+00,   2.11546421e+00,   2.34839225e+00],\n",
       "       [  4.42660332e+00,   1.30906236e+00,   2.19752169e+00],\n",
       "       [  1.46697664e+00,   8.31641853e-01,   2.01551485e+00],\n",
       "       [ -6.52348995e-01,   1.84290433e+00,   2.02005911e+00],\n",
       "       [ -1.67281175e+00,   3.55828762e+00,   1.80998302e+00],\n",
       "       [ -1.23558736e+00,   4.13408375e+00,   1.38356256e+00],\n",
       "       [ -9.93584991e-01,   4.95260000e+00,   1.93800795e+00],\n",
       "       [  3.79698247e-01,   4.84815884e+00,   1.97987819e+00],\n",
       "       [  1.99846461e-01,   4.69203568e+00,   2.40431786e+00],\n",
       "       [  1.28299165e+00,   4.81905651e+00,   9.57572937e-01],\n",
       "       [  2.03745437e+00,   2.52861309e+00,   3.48085463e-02],\n",
       "       [  2.00213861e+00,   1.22150445e+00,   6.65969253e-01],\n",
       "       [  3.83088708e-01,   1.37980247e+00,   9.99742031e-01],\n",
       "       [ -1.02694571e-01,   2.93516111e+00,   1.24874771e+00],\n",
       "       [ -1.40241027e-01,   2.54187870e+00,  -2.62595266e-01],\n",
       "       [  1.02185047e+00,   2.00552315e-01,  -1.45102024e+00],\n",
       "       [  1.44301176e+00,  -2.60458684e+00,  -2.24570036e+00],\n",
       "       [ -2.89467275e-01,  -3.75690722e+00,  -1.71352983e+00],\n",
       "       [ -1.32707846e+00,  -5.17308235e+00,  -1.76121747e+00],\n",
       "       [ -1.77861500e+00,  -3.62274051e+00,  -1.77962065e+00],\n",
       "       [  4.48335022e-01,  -2.29278803e+00,  -1.87134588e+00],\n",
       "       [  8.01061273e-01,  -6.42250538e-01,  -2.10617995e+00],\n",
       "       [  9.89971161e-01,   2.05644727e-01,  -2.36612701e+00],\n",
       "       [  5.76461077e-01,   5.99006414e-01,  -2.42871523e+00],\n",
       "       [  9.24666464e-01,   2.85793126e-01,  -2.27781916e+00],\n",
       "       [  1.04750609e+00,   3.41666460e-01,  -2.55533934e+00],\n",
       "       [  1.49990392e+00,   4.45200950e-01,  -1.62797260e+00],\n",
       "       [  1.81421614e+00,   9.78457093e-01,  -1.59267879e+00],\n",
       "       [  3.22313190e+00,  -4.72776026e-01,  -1.01657248e+00],\n",
       "       [  2.44182014e+00,  -5.82746267e-01,  -6.84151769e-01],\n",
       "       [  9.66407537e-01,  -4.52785552e-01,   7.42019892e-01],\n",
       "       [ -1.06603181e+00,   8.19423795e-01,   1.77728641e+00],\n",
       "       [ -1.91376054e+00,   1.16168237e+00,   1.64409745e+00],\n",
       "       [  6.64914310e-01,   1.40690255e+00,  -5.84606677e-02],\n",
       "       [  5.44799900e+00,   1.43136013e+00,  -1.50186288e+00],\n",
       "       [  6.46572638e+00,   9.03721392e-01,  -1.86287904e+00],\n",
       "       [  5.81239796e+00,  -1.37259573e-01,  -1.81560206e+00],\n",
       "       [  1.52305150e+00,   1.51951289e+00,  -7.19887316e-01],\n",
       "       [ -9.95555818e-01,   2.73201084e+00,   9.56285894e-01],\n",
       "       [ -1.61359549e+00,   3.51853561e+00,   1.33947992e+00],\n",
       "       [  1.11982691e+00,   2.71882820e+00,  -2.95633018e-01],\n",
       "       [  3.51542592e+00,   8.30277741e-01,  -1.38698828e+00],\n",
       "       [  6.45885897e+00,  -2.41267204e+00,  -1.72161293e+00],\n",
       "       [  5.13574219e+00,  -4.72773075e+00,  -1.11555409e+00],\n",
       "       [  1.11299014e+00,  -5.05541134e+00,  -1.08050334e+00],\n",
       "       [ -2.79970121e+00,  -3.66199589e+00,  -1.97884297e+00],\n",
       "       [ -5.07126188e+00,  -2.77214241e+00,  -3.25680590e+00],\n",
       "       [ -6.27189112e+00,  -2.33901501e+00,  -4.17613411e+00],\n",
       "       [ -5.36707020e+00,  -2.03470492e+00,  -4.96420574e+00],\n",
       "       [ -4.53154469e+00,  -2.93753195e+00,  -4.37113857e+00],\n",
       "       [ -2.72462988e+00,  -2.83777761e+00,  -1.37356353e+00],\n",
       "       [ -4.21682882e+00,  -2.83800554e+00,   8.22134674e-01],\n",
       "       [ -4.46934795e+00,  -3.73872375e+00,   1.81371033e+00],\n",
       "       [ -4.75438786e+00,  -2.30923772e+00,   1.99936306e+00],\n",
       "       [ -2.84425998e+00,  -1.82308108e-01,   2.11231375e+00],\n",
       "       [ -3.80238086e-01,   1.75907791e+00,   1.53630304e+00],\n",
       "       [  1.44217443e+00,   2.11784363e+00,   1.78497303e+00],\n",
       "       [  1.56466794e+00,   1.93313622e+00,   1.55264986e+00],\n",
       "       [  2.09587765e+00,   1.47449458e+00,  -3.49055409e-01],\n",
       "       [  7.30888724e-01,   1.42192364e+00,  -6.46956503e-01],\n",
       "       [  8.31201434e-01,   1.63333833e+00,   1.00215590e+00],\n",
       "       [ -6.19608641e-01,   2.13400674e+00,   1.20018458e+00],\n",
       "       [ -1.37728906e+00,   1.10918677e+00,   6.00212038e-01],\n",
       "       [ -2.04138231e+00,  -4.00717497e-01,   2.74887025e-01],\n",
       "       [ -1.60693645e+00,  -1.87792754e+00,   2.40159482e-01],\n",
       "       [ -1.21013021e+00,  -4.08487171e-01,   1.20765626e+00],\n",
       "       [ -1.61974025e+00,   1.72607374e+00,   2.73207664e+00],\n",
       "       [ -2.57876444e+00,   2.42793560e+00,   2.17579889e+00],\n",
       "       [ -1.76307952e+00,   2.86374712e+00,   1.05767679e+00],\n",
       "       [ -7.15029240e-01,   2.63129425e+00,   1.52723467e+00],\n",
       "       [ -7.17756450e-02,   2.35243368e+00,   1.91718102e+00],\n",
       "       [  6.60989523e-01,   4.86115515e-01,   3.02122641e+00],\n",
       "       [ -1.37896329e-01,   8.95632863e-01,   4.47422981e+00],\n",
       "       [ -2.03706551e+00,   8.49490404e-01,   4.86421394e+00],\n",
       "       [ -8.69522691e-01,   9.22390282e-01,   5.12168837e+00],\n",
       "       [  2.88420343e+00,  -9.67901468e-01,   3.99502897e+00],\n",
       "       [  4.63531399e+00,  -1.71918797e+00,   4.59946489e+00],\n",
       "       [  2.36730576e+00,  -1.87868381e+00,   3.04097104e+00],\n",
       "       [  1.43507093e-01,  -2.65067863e+00,   8.81446421e-01],\n",
       "       [ -2.17381001e+00,  -2.63877177e+00,  -2.28881478e-01],\n",
       "       [ -1.62736201e+00,  -1.48871982e+00,   3.53342056e-01],\n",
       "       [ -1.06604099e+00,  -2.30651546e+00,  -2.08645970e-01],\n",
       "       [  4.66979921e-01,  -4.85167074e+00,  -6.24997377e-01],\n",
       "       [ -1.05354154e+00,  -4.94105387e+00,   8.12006772e-01],\n",
       "       [ -8.51850808e-01,  -3.29184532e+00,   2.26468587e+00],\n",
       "       [ -8.43961239e-01,  -1.37308908e+00,   2.48427939e+00],\n",
       "       [  2.02103883e-01,  -3.20872128e-01,   3.58275485e+00],\n",
       "       [  4.20562059e-01,  -4.48823124e-02,   2.45916319e+00],\n",
       "       [  5.66166639e-01,  -3.72568309e-01,  -7.88452983e-01],\n",
       "       [ -1.97434866e+00,  -2.13528097e-01,  -3.49983406e+00],\n",
       "       [ -2.85022140e+00,   1.13513923e+00,  -4.41261673e+00],\n",
       "       [ -3.22612119e+00,   1.44847155e+00,  -5.15399551e+00],\n",
       "       [ -3.22088957e+00,   2.38027096e+00,  -4.74417257e+00],\n",
       "       [ -3.62846565e+00,   1.53648484e+00,  -4.10769653e+00],\n",
       "       [ -4.58830261e+00,   2.02560520e+00,  -4.57852554e+00],\n",
       "       [ -4.86785507e+00,   1.74375081e+00,  -4.47895718e+00],\n",
       "       [ -4.32329988e+00,   2.86170244e+00,  -3.11722636e+00],\n",
       "       [ -3.26042175e+00,   2.61928463e+00,  -2.25712562e+00],\n",
       "       [ -2.26109236e-01,   2.60923362e+00,  -1.14120102e+00],\n",
       "       [  2.91404104e+00,   2.00889254e+00,   1.37332201e-01],\n",
       "       [  3.23554349e+00,   2.83460569e+00,   4.69075322e-01],\n",
       "       [  2.21693420e+00,   3.01406074e+00,   1.53404534e+00],\n",
       "       [  1.53013480e+00,   3.35438371e+00,   1.57023072e+00],\n",
       "       [  1.98136544e+00,   2.70525980e+00,   1.60663557e+00],\n",
       "       [  3.89405894e+00,   3.01425600e+00,   1.17817819e+00],\n",
       "       [  7.30960178e+00,   5.87011576e-01,   8.90350938e-02],\n",
       "       [  7.50853443e+00,  -1.45080519e+00,   3.92246068e-01],\n",
       "       [  7.48727322e+00,  -5.08391666e+00,   9.06230092e-01],\n",
       "       [  3.81408811e+00,  -7.29402065e+00,  -1.71746051e+00],\n",
       "       [  6.53037429e-01,  -7.40256405e+00,  -1.57317698e+00],\n",
       "       [ -1.29301703e+00,  -6.28577042e+00,  -3.68172228e-01],\n",
       "       [ -1.78912652e+00,  -3.32256746e+00,   1.26598108e+00],\n",
       "       [ -1.09350896e+00,  -9.29937243e-01,   2.02261567e+00],\n",
       "       [ -6.18124664e-01,  -1.14981472e+00,   2.03032541e+00],\n",
       "       [ -1.27234662e+00,  -3.07209283e-01,   1.75460076e+00],\n",
       "       [ -1.05917275e-01,   1.41234827e+00,   4.29408967e-01],\n",
       "       [  1.83838606e+00,   1.77877307e+00,  -6.54394507e-01],\n",
       "       [  4.09332561e+00,   2.43512869e+00,  -5.61676145e-01],\n",
       "       [  4.14148140e+00,   3.82159400e+00,  -9.29315686e-01],\n",
       "       [  5.10742188e+00,   4.34036350e+00,  -1.31641579e+00],\n",
       "       [  4.35536671e+00,   3.67827559e+00,  -2.38964796e+00],\n",
       "       [  4.02870893e+00,   1.81634462e+00,  -2.65154886e+00],\n",
       "       [  1.44220972e+00,   2.23891449e+00,  -2.00872326e+00],\n",
       "       [ -7.69039452e-01,   3.97575927e+00,  -1.88602841e+00],\n",
       "       [ -3.30457616e+00,   4.74055719e+00,  -1.70505524e+00],\n",
       "       [ -3.18527174e+00,   2.37323141e+00,  -2.58287024e+00],\n",
       "       [ -2.27179337e+00,   1.07435852e-01,  -2.55959892e+00],\n",
       "       [  1.07877028e+00,  -1.38716221e+00,  -3.37001181e+00],\n",
       "       [  1.14986229e+00,  -2.04632592e+00,  -3.79849148e+00],\n",
       "       [ -1.14008522e+00,  -5.48026919e-01,  -3.06371260e+00],\n",
       "       [ -3.47233820e+00,  -2.59521389e+00,  -1.61604536e+00],\n",
       "       [ -4.03222656e+00,  -3.46957970e+00,  -9.52557862e-01],\n",
       "       [ -2.20273519e+00,  -5.32702684e+00,   6.64118469e-01],\n",
       "       [  4.43667173e-02,  -5.23261166e+00,   1.14972770e+00],\n",
       "       [ -8.33044887e-01,  -4.73887777e+00,   2.25161672e+00],\n",
       "       [ -1.66195166e+00,  -3.02755213e+00,   3.67993593e+00],\n",
       "       [ -1.51595378e+00,  -1.65913343e+00,   3.87417459e+00],\n",
       "       [ -1.21017385e+00,  -6.34657741e-01,   3.64787388e+00],\n",
       "       [  5.42875409e-01,  -5.61621428e-01,   3.39050055e+00],\n",
       "       [  3.31552768e+00,   4.74426091e-01,   1.84619784e+00],\n",
       "       [  4.90921593e+00,   1.40459347e+00,   2.00655484e+00],\n",
       "       [  8.63380075e-01,   1.95168042e+00,   2.75502324e+00],\n",
       "       [ -1.35461760e+00,   3.57776570e+00,   2.62741971e+00],\n",
       "       [ -3.31822491e+00,   4.89789915e+00,   2.27413106e+00],\n",
       "       [ -1.24090207e+00,   4.56448746e+00,   1.08805752e+00],\n",
       "       [  1.49439812e+00,   3.82890773e+00,  -4.62521195e-01],\n",
       "       [  2.67672157e+00,   3.01850843e+00,  -1.45355368e+00],\n",
       "       [  4.06011641e-01,   3.42861223e+00,  -2.29210496e+00],\n",
       "       [ -5.97999454e-01,   3.10431528e+00,  -2.07044840e+00],\n",
       "       [ -2.33613968e+00,   3.57795715e+00,  -1.31881213e+00],\n",
       "       [ -1.13817096e+00,   2.75354671e+00,   4.09416914e-01],\n",
       "       [  2.01440275e-01,   1.73036277e+00,   1.71143746e+00],\n",
       "       [  8.86439025e-01,  -3.68668288e-01,   1.70080256e+00],\n",
       "       [  3.58794808e-01,  -2.33841038e+00,   1.07732862e-01],\n",
       "       [ -1.25106597e+00,  -5.28394222e+00,  -8.66376996e-01],\n",
       "       [ -2.94296718e+00,  -5.69468451e+00,  -4.03116822e-01],\n",
       "       [ -4.06553555e+00,  -5.91266155e+00,   4.15806979e-01],\n",
       "       [ -4.38466132e-01,  -6.36335468e+00,   1.54233921e+00]], dtype=float32)"
      ]
     },
     "execution_count": 46,
     "metadata": {},
     "output_type": "execute_result"
    }
   ],
   "source": [
    "geo.transform(weights[0])"
   ]
  },
  {
   "cell_type": "markdown",
   "metadata": {},
   "source": [
    "## Saving geos"
   ]
  },
  {
   "cell_type": "markdown",
   "metadata": {},
   "source": [
    "You can also easily save a geo using geo.save. The geo will save as a 'geo' file, which is a dictionary containing the elements of a data geometry object saved in the hd5 format using deepdish."
   ]
  },
  {
   "cell_type": "code",
   "execution_count": 50,
   "metadata": {},
   "outputs": [],
   "source": [
    "geo.save('MyGeoFile')"
   ]
  },
  {
   "cell_type": "markdown",
   "metadata": {},
   "source": [
    "To specify the compression type, pass a string to the compression argument, as below.\n",
    "\n",
    "See the deepdish documentation for the full list of compression options: http://deepdish.readthedocs.io/en/latest/api_io.html#deepdish.io.save"
   ]
  },
  {
   "cell_type": "code",
   "execution_count": 52,
   "metadata": {},
   "outputs": [],
   "source": [
    "geo.save('MyGeoFile', compression = 'blosc')"
   ]
  },
  {
   "cell_type": "code",
   "execution_count": null,
   "metadata": {},
   "outputs": [],
   "source": []
  }
 ],
 "metadata": {
  "kernelspec": {
   "display_name": "Python 3",
   "language": "python",
   "name": "python3"
  },
  "language_info": {
   "codemirror_mode": {
    "name": "ipython",
    "version": 3
   },
   "file_extension": ".py",
   "mimetype": "text/x-python",
   "name": "python",
   "nbconvert_exporter": "python",
   "pygments_lexer": "ipython3",
   "version": "3.6.1"
  }
 },
 "nbformat": 4,
 "nbformat_minor": 2
}
